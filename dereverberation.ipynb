{
  "nbformat": 4,
  "nbformat_minor": 0,
  "metadata": {
    "colab": {
      "name": "ECE_114_project_code.ipynb",
      "provenance": [],
      "collapsed_sections": [],
      "toc_visible": true
    },
    "kernelspec": {
      "name": "python3",
      "display_name": "Python 3"
    },
    "accelerator": "GPU",
    "widgets": {
      "application/vnd.jupyter.widget-state+json": {
        "834fbfbfcee34d11b0de5c4be87b1d4d": {
          "model_module": "@jupyter-widgets/controls",
          "model_name": "HBoxModel",
          "state": {
            "_view_name": "HBoxView",
            "_dom_classes": [],
            "_model_name": "HBoxModel",
            "_view_module": "@jupyter-widgets/controls",
            "_model_module_version": "1.5.0",
            "_view_count": null,
            "_view_module_version": "1.5.0",
            "box_style": "",
            "layout": "IPY_MODEL_c182f50a044d44a7a03d05cac015c53a",
            "_model_module": "@jupyter-widgets/controls",
            "children": [
              "IPY_MODEL_8e0f1f6fdbd4480a8a39bc80af99727d",
              "IPY_MODEL_5263c0014c004dfa894897acd205c7c2"
            ]
          }
        },
        "c182f50a044d44a7a03d05cac015c53a": {
          "model_module": "@jupyter-widgets/base",
          "model_name": "LayoutModel",
          "state": {
            "_view_name": "LayoutView",
            "grid_template_rows": null,
            "right": null,
            "justify_content": null,
            "_view_module": "@jupyter-widgets/base",
            "overflow": null,
            "_model_module_version": "1.2.0",
            "_view_count": null,
            "flex_flow": null,
            "width": null,
            "min_width": null,
            "border": null,
            "align_items": null,
            "bottom": null,
            "_model_module": "@jupyter-widgets/base",
            "top": null,
            "grid_column": null,
            "overflow_y": null,
            "overflow_x": null,
            "grid_auto_flow": null,
            "grid_area": null,
            "grid_template_columns": null,
            "flex": null,
            "_model_name": "LayoutModel",
            "justify_items": null,
            "grid_row": null,
            "max_height": null,
            "align_content": null,
            "visibility": null,
            "align_self": null,
            "height": null,
            "min_height": null,
            "padding": null,
            "grid_auto_rows": null,
            "grid_gap": null,
            "max_width": null,
            "order": null,
            "_view_module_version": "1.2.0",
            "grid_template_areas": null,
            "object_position": null,
            "object_fit": null,
            "grid_auto_columns": null,
            "margin": null,
            "display": null,
            "left": null
          }
        },
        "8e0f1f6fdbd4480a8a39bc80af99727d": {
          "model_module": "@jupyter-widgets/controls",
          "model_name": "FloatProgressModel",
          "state": {
            "_view_name": "ProgressView",
            "style": "IPY_MODEL_edc6589504b644c99e8ae2ae43844b83",
            "_dom_classes": [],
            "description": "100%",
            "_model_name": "FloatProgressModel",
            "bar_style": "success",
            "max": 2552,
            "_view_module": "@jupyter-widgets/controls",
            "_model_module_version": "1.5.0",
            "value": 2552,
            "_view_count": null,
            "_view_module_version": "1.5.0",
            "orientation": "horizontal",
            "min": 0,
            "description_tooltip": null,
            "_model_module": "@jupyter-widgets/controls",
            "layout": "IPY_MODEL_8171dd1230e54553aa6020a7b1c0b347"
          }
        },
        "5263c0014c004dfa894897acd205c7c2": {
          "model_module": "@jupyter-widgets/controls",
          "model_name": "HTMLModel",
          "state": {
            "_view_name": "HTMLView",
            "style": "IPY_MODEL_4abb290f9b864e5c894bdafbfb746b0f",
            "_dom_classes": [],
            "description": "",
            "_model_name": "HTMLModel",
            "placeholder": "​",
            "_view_module": "@jupyter-widgets/controls",
            "_model_module_version": "1.5.0",
            "value": " 2552/2552 [24:06&lt;00:00,  1.76it/s]",
            "_view_count": null,
            "_view_module_version": "1.5.0",
            "description_tooltip": null,
            "_model_module": "@jupyter-widgets/controls",
            "layout": "IPY_MODEL_c07f1cc379774c09adaecab941aac3d9"
          }
        },
        "edc6589504b644c99e8ae2ae43844b83": {
          "model_module": "@jupyter-widgets/controls",
          "model_name": "ProgressStyleModel",
          "state": {
            "_view_name": "StyleView",
            "_model_name": "ProgressStyleModel",
            "description_width": "initial",
            "_view_module": "@jupyter-widgets/base",
            "_model_module_version": "1.5.0",
            "_view_count": null,
            "_view_module_version": "1.2.0",
            "bar_color": null,
            "_model_module": "@jupyter-widgets/controls"
          }
        },
        "8171dd1230e54553aa6020a7b1c0b347": {
          "model_module": "@jupyter-widgets/base",
          "model_name": "LayoutModel",
          "state": {
            "_view_name": "LayoutView",
            "grid_template_rows": null,
            "right": null,
            "justify_content": null,
            "_view_module": "@jupyter-widgets/base",
            "overflow": null,
            "_model_module_version": "1.2.0",
            "_view_count": null,
            "flex_flow": null,
            "width": null,
            "min_width": null,
            "border": null,
            "align_items": null,
            "bottom": null,
            "_model_module": "@jupyter-widgets/base",
            "top": null,
            "grid_column": null,
            "overflow_y": null,
            "overflow_x": null,
            "grid_auto_flow": null,
            "grid_area": null,
            "grid_template_columns": null,
            "flex": null,
            "_model_name": "LayoutModel",
            "justify_items": null,
            "grid_row": null,
            "max_height": null,
            "align_content": null,
            "visibility": null,
            "align_self": null,
            "height": null,
            "min_height": null,
            "padding": null,
            "grid_auto_rows": null,
            "grid_gap": null,
            "max_width": null,
            "order": null,
            "_view_module_version": "1.2.0",
            "grid_template_areas": null,
            "object_position": null,
            "object_fit": null,
            "grid_auto_columns": null,
            "margin": null,
            "display": null,
            "left": null
          }
        },
        "4abb290f9b864e5c894bdafbfb746b0f": {
          "model_module": "@jupyter-widgets/controls",
          "model_name": "DescriptionStyleModel",
          "state": {
            "_view_name": "StyleView",
            "_model_name": "DescriptionStyleModel",
            "description_width": "",
            "_view_module": "@jupyter-widgets/base",
            "_model_module_version": "1.5.0",
            "_view_count": null,
            "_view_module_version": "1.2.0",
            "_model_module": "@jupyter-widgets/controls"
          }
        },
        "c07f1cc379774c09adaecab941aac3d9": {
          "model_module": "@jupyter-widgets/base",
          "model_name": "LayoutModel",
          "state": {
            "_view_name": "LayoutView",
            "grid_template_rows": null,
            "right": null,
            "justify_content": null,
            "_view_module": "@jupyter-widgets/base",
            "overflow": null,
            "_model_module_version": "1.2.0",
            "_view_count": null,
            "flex_flow": null,
            "width": null,
            "min_width": null,
            "border": null,
            "align_items": null,
            "bottom": null,
            "_model_module": "@jupyter-widgets/base",
            "top": null,
            "grid_column": null,
            "overflow_y": null,
            "overflow_x": null,
            "grid_auto_flow": null,
            "grid_area": null,
            "grid_template_columns": null,
            "flex": null,
            "_model_name": "LayoutModel",
            "justify_items": null,
            "grid_row": null,
            "max_height": null,
            "align_content": null,
            "visibility": null,
            "align_self": null,
            "height": null,
            "min_height": null,
            "padding": null,
            "grid_auto_rows": null,
            "grid_gap": null,
            "max_width": null,
            "order": null,
            "_view_module_version": "1.2.0",
            "grid_template_areas": null,
            "object_position": null,
            "object_fit": null,
            "grid_auto_columns": null,
            "margin": null,
            "display": null,
            "left": null
          }
        }
      }
    }
  },
  "cells": [
    {
      "cell_type": "markdown",
      "metadata": {
        "id": "aKrwy4Wv62Uw"
      },
      "source": [
        "In this project, we will use machine learning to complete a single word speech recognition task.  Here, we use one second recordings of the digits zero - nine from the Google Speech Command database https://ai.googleblog.com/2017/08/launching-speech-commands-dataset.html, meaning that every recording used belongs to one of ten classes (zero, one, two, three, four, five, six, seven, eight, or nine).  To perform the recognition, we have two frameworks as shown below:\n",
        "\n",
        "1. We can directly feed the audio signal into a neural network for audio classification.  Models that read in the raw signal with no feature extraction are called end to end models.\n",
        "\n",
        "2. We can extract some short time feature from each frame of the audio, giving the spectrogram or another acoustic representation.  We can then take these combination of these features accross time as an image and perform image classification on them.\n",
        "\n",
        "\n",
        "In this project, you will explore both methods.\n",
        "\n",
        "You may (but are not required) to change any of the code given here.  You can just add your new code to the bottom of the file.\n",
        "\n",
        "**Before you run anything, go to the toolbar at the top and select: Runtime > Change runtime type > GPU.**"
      ]
    },
    {
      "cell_type": "markdown",
      "metadata": {
        "id": "X7xnFLM4ly7N"
      },
      "source": [
        "Mount your google drive to give google colab access to files stored in your google drive"
      ]
    },
    {
      "cell_type": "code",
      "metadata": {
        "id": "Semsm6NcUZSp"
      },
      "source": [
        "from google.colab import drive\n",
        "drive.mount('/content/gdrive/')"
      ],
      "execution_count": null,
      "outputs": []
    },
    {
      "cell_type": "markdown",
      "metadata": {
        "id": "k1BWoQ6r7HgB"
      },
      "source": [
        "Change directory to the place where the google ai speech commands dataset is stored.  You can find the path by typing \"!ls\" to see what files and directories are currently available.  Then type \"!ls <subdirectory you want to explore>\" to see what files are in the next subdirectory.  Keep doing that, separating the subdirectories with slashes \"/\" until you get to the speech_commands_v0.01 folder as shown below.  Then put that filepath in the os.chdir command."
      ]
    },
    {
      "cell_type": "code",
      "metadata": {
        "id": "ZGOjOJ1WUghi"
      },
      "source": [
        "import os\n",
        "os.chdir('/content/gdrive/My Drive/speech_commands_v0.01')\n",
        "!ls"
      ],
      "execution_count": null,
      "outputs": []
    },
    {
      "cell_type": "markdown",
      "metadata": {
        "id": "w4a4cGfW7ydf"
      },
      "source": [
        "Load in the text file that lists the audio files to be used.  We'll only use the subset of files listed in this text file for this project."
      ]
    },
    {
      "cell_type": "code",
      "metadata": {
        "id": "nM1j3Gd4Ugkm"
      },
      "source": [
        "text_file = open(\"train_digit_list.txt\", \"r\")\n",
        "training_list = text_file.read().splitlines()"
      ],
      "execution_count": null,
      "outputs": []
    },
    {
      "cell_type": "markdown",
      "metadata": {
        "id": "z3-iYEBD77rl"
      },
      "source": [
        "Read in all of the audio files.  Store the raw audio to a list called all_wav_list.  Store any features extracted to a listt called all_feat_list.  This part may take a while depending on what features you extract.  You can go watch netflix or work on your homework or something and come back when it's done>  You have to redo this every time you run the code which can be kind of a pain.  If you prefer, you can store the list after you've generated it and then redownload it instead of recreating it:\n",
        "\n",
        "# Create NN\n",
        "\n",
        "import pickle\n",
        "\n",
        "# Create a list\n",
        "\n",
        "l = [1,2,3,4] # create a list\n",
        "#store the list as a file\n",
        "    with open(\"test.txt\", \"wb\") as fp:   #Pickling\n",
        "        pickle.dump(l, fp)\n",
        "# open the file and read the list from it \n",
        "    with open(\"test.txt\", \"rb\") as fp:   # Unpickling\n",
        "        b = pickle.load(fp)"
      ]
    },
    {
      "cell_type": "code",
      "metadata": {
        "id": "j1vcvtMNXs6Y"
      },
      "source": [
        "!pip install librosa==0.8.0"
      ],
      "execution_count": null,
      "outputs": []
    },
    {
      "cell_type": "code",
      "metadata": {
        "id": "yzzTlNeoUgpP"
      },
      "source": [
        "import librosa.feature as lf\n",
        "import scipy.io.wavfile as wav\n",
        "import numpy as np\n",
        "from tqdm.notebook import tnrange\n",
        "\n",
        "#initialize lists\n",
        "all_wav_list = []\n",
        "all_feat_list = []\n",
        "all_feat_list2 = []\n",
        "all_feat_list3 = []\n",
        "all_feat_list4 = []\n",
        "all_feat_list5 = []\n",
        "all_feat_list6 = []\n",
        "all_feat_list7 = []\n",
        "all_feat_list8 = []\n",
        "all_feat_list9 = []\n",
        "all_feat_list10 = []\n",
        "all_feat_list11 = []\n",
        "all_feat_list12 = []\n",
        "all_labels = []\n",
        "\n",
        "#loop through all audio files listed in the text file\n",
        "for i in tnrange(len(training_list), desc='Load in files'):\n",
        "  #load in the given audio file\n",
        "  fs, audio = wav.read(training_list[i])\n",
        "\n",
        "  \n",
        "  z=np.zeros((fs,))\n",
        "  #if an audio file is less than a second, add zeros to it to make it a second\n",
        "  if audio.size<=fs:\n",
        "    z[:audio.size]=audio\n",
        "  # if an audio file is longer than a second, clip it to a second\n",
        "  elif audio.size>fs:\n",
        "    z=audio[:fs]\n",
        "  \n",
        "  # read in five features\n",
        "  feat = lf.melspectrogram(z.astype('float'), sr =fs)\n",
        "  feat2 = lf.mfcc(z.astype('float'), sr=fs, n_fft=512)\n",
        "\n",
        "  feat1= lf.poly_features(z.astype('float'),sr=fs, n_fft=512)\n",
        "  feat3=np.vstack((feat1, feat1, feat1, feat1, feat1))\n",
        "\n",
        "  feat1= lf.spectral_centroid(z.astype('float'), sr =fs)\n",
        "  feat4=np.vstack((feat1, feat1, feat1, feat1, feat1, feat1, feat1, feat1))\n",
        "  \n",
        "  feat1= lf.spectral_contrast(z.astype('float'), sr =fs)\n",
        "  feat5=np.vstack((feat1, feat1, feat1, feat1, feat1, feat1, feat1, feat1))\n",
        "\n",
        "  #Altered Mel Spectrogram Parameters\n",
        "  feat6 = lf.melspectrogram(z.astype('float'), sr = fs, win_length = 1024)\n",
        "  \n",
        "  feat7 = lf.melspectrogram(z.astype('float'), sr = fs, win_length = 1024, hop_length = 1024)\n",
        "  \n",
        "  feat8 = lf.melspectrogram(z.astype('float'), sr = fs, win_length = 512, hop_length = 1024)\n",
        "\n",
        "  #Combined Features\n",
        "  feat9 = np.vstack((feat2, feat4))\n",
        "\n",
        "  feat10 = np.vstack((feat2, feat))\n",
        "\n",
        "  feat11 = np.vstack((feat, feat4))\n",
        "\n",
        "  feat12 = np.vstack((feat2, feat4, feat))\n",
        "\n",
        "  all_wav_list.append(z.astype('float'))\n",
        "  all_feat_list.append(feat.reshape(1, feat.shape[0], feat.shape[1]))\n",
        "  all_feat_list2.append(feat2.reshape(1, feat2.shape[0], feat2.shape[1]))\n",
        "  all_feat_list3.append(feat3.reshape(1, feat3.shape[0], feat3.shape[1]))\n",
        "  all_feat_list4.append(feat4.reshape(1, feat4.shape[0], feat4.shape[1]))\n",
        "  all_feat_list5.append(feat5.reshape(1, feat5.shape[0], feat5.shape[1]))\n",
        "  all_feat_list6.append(feat6.reshape(1, feat6.shape[0], feat6.shape[1]))\n",
        "  all_feat_list7.append(feat7.reshape(1, feat7.shape[0], feat7.shape[1]))\n",
        "  all_feat_list8.append(feat8.reshape(1, feat8.shape[0], feat8.shape[1]))\n",
        "  all_feat_list9.append(feat9.reshape(1, feat9.shape[0], feat9.shape[1]))\n",
        "  all_feat_list10.append(feat10.reshape(1, feat10.shape[0], feat10.shape[1]))\n",
        "  all_feat_list11.append(feat11.reshape(1, feat11.shape[0], feat11.shape[1]))\n",
        "  all_feat_list12.append(feat12.reshape(1, feat12.shape[0], feat12.shape[1]))\n",
        "  \n",
        "\n",
        "# get labels from the file name (ie which word is in the audio file)\n",
        "  which_word=training_list[i].split('/')[0]\n",
        "  all_labels.append(which_word)\n",
        "\n"
      ],
      "execution_count": null,
      "outputs": []
    },
    {
      "cell_type": "markdown",
      "metadata": {
        "id": "irpAGci69OqE"
      },
      "source": [
        "Let's listen to one of the audio files to verify that it loaded in correctly"
      ]
    },
    {
      "cell_type": "code",
      "metadata": {
        "id": "DEmrEVWWWPDc"
      },
      "source": [
        "import IPython\n",
        "IPython.display.Audio(training_list[0])"
      ],
      "execution_count": null,
      "outputs": []
    },
    {
      "cell_type": "markdown",
      "metadata": {
        "id": "dHoLMFx09VAi"
      },
      "source": [
        "And verify that the sizes of the lists look correct"
      ]
    },
    {
      "cell_type": "code",
      "metadata": {
        "id": "pkNXFwqFf1w0"
      },
      "source": [
        "print(len(all_wav_list))\n",
        "print(len(all_feat_list))\n",
        "print(len(all_labels))\n",
        "print(all_feat_list[0].shape)"
      ],
      "execution_count": null,
      "outputs": []
    },
    {
      "cell_type": "markdown",
      "metadata": {
        "id": "QTPzv4HF9cV_"
      },
      "source": [
        "Now we'll start with speech recognition from the raw audio.  We'll concatenate the raw signals into a matrix X_sig."
      ]
    },
    {
      "cell_type": "code",
      "metadata": {
        "id": "AcfVtiengPlB"
      },
      "source": [
        "X_sig = np.vstack(all_wav_list)\n",
        "X_sig = X_sig.reshape(X_sig.shape[0], X_sig.shape[1], 1)\n",
        "print(X_sig.shape)"
      ],
      "execution_count": null,
      "outputs": []
    },
    {
      "cell_type": "markdown",
      "metadata": {
        "id": "5g1SiSOj-MY4"
      },
      "source": [
        "And we'll one hot encode our labels.  This will transform our labels from words to a vector that represents the label with a numerical value.  All of the encoded labels will have the same norm to prevent bias.  For instance, if there were five words then they would be encoded as:\n",
        "\n",
        "$y1 = [1, 0, 0, 0, 0]$\n",
        "\n",
        "$y2 = [0, 1, 0, 0, 0]$\n",
        "\n",
        "$y3 = [0, 0, 1, 0, 0]$\n",
        "\n",
        "$y4 = [0, 0, 0, 1, 0]$\n",
        "\n",
        "$y5 = [0, 0, 0, 0, 1]$\n",
        "\n",
        "This will be useful in comparing correct and incorrect labels later"
      ]
    },
    {
      "cell_type": "code",
      "metadata": {
        "id": "QyG63fh1-NLx"
      },
      "source": [
        "from sklearn import preprocessing\n",
        "import scipy as sp\n",
        "\n",
        "le = preprocessing.LabelEncoder()\n",
        "le.fit(all_labels)\n",
        "encoded_labels = le.transform(all_labels)\n",
        "\n",
        "oh_enc = preprocessing.OneHotEncoder()\n",
        "oh_enc.fit(encoded_labels.reshape(-1,1))\n",
        "\n",
        "y = oh_enc.transform(encoded_labels.reshape(-1,1))\n",
        "y = sp.sparse.csr_matrix.toarray(y)"
      ],
      "execution_count": null,
      "outputs": []
    },
    {
      "cell_type": "markdown",
      "metadata": {
        "id": "0gpoWF739rOj"
      },
      "source": [
        "Then we'll devide the whole set into a testing and a training set."
      ]
    },
    {
      "cell_type": "code",
      "metadata": {
        "id": "K7ulgVbqhF_Z"
      },
      "source": [
        "from sklearn.model_selection import train_test_split\n",
        "\n",
        "X_sig_train, X_sig_test, y_train, y_test = train_test_split(X_sig, y, test_size=0.2, random_state=42)"
      ],
      "execution_count": null,
      "outputs": []
    },
    {
      "cell_type": "markdown",
      "metadata": {
        "id": "XgwtlNnfKn1U"
      },
      "source": [
        "Create and run an end to end model for audio classification:  We create a sequential model using the keras module in tensorflow and then add the desired layer to it.\n",
        "\n",
        "The graph is created of a static size, so the size of every layer must be pre-defined.  Tensorflow will take care of calculated the sizes needed in each layer if we specify the size of the input layer, the size of the output layer, and the parameters of each desired layers.\n",
        "\n",
        "The input is a collection of 1D signals each one second long.  The static graph requires that all inputs be the same size which we make sure of in shaping the input matrix above.  This will have the shape (number_of_signals, len_of_signals, 1).  The number of signals we feed into the network does not affect its structure, so we just need to specify the shapes of these inputs in input layer as (fs, 1) for the one second long signals.\n",
        "\n",
        "This input is then passed into convolutional layers and then recurrent layers (GRU) before the fully connected network (ie multilayer perceptrion) makes the final output decision.  In betweek the layers are forms of regularization such as MaxPooling (downsampling the output of a layer), dropout(randomly setting some percentage of the weights of a layer to zero for given iteration), and batch normalization (normalizing the mean and standard deviation of the output of a layer so that the numbers don't become too large).  These methods try to ensure that the solution found by the neural network does not rely too strongly on any one trend that occurs in its weights or any trend that only occurs with a small numbe of its weights.  This helps ensure that the solution found by the network is not too specific to the training data and generalizes well to any other test set of a similar distribution.\n",
        "\n",
        "At the output layer, we set the size of the last fully connected layer to 10 to let the network know that we expect a classification decision between one of the ten classes.  The output of the last layer is of the form:\n",
        "\n",
        "$out=[x_0, x_1, x_2, x_3, x_4,x_5,x_6,x_7,x_8,x_9]$\n",
        "\n",
        "where each $x_i$ is the calculated probability that the given audio sample belongs to class i.  The classification decision is then $y_{pred} =argmax_i(out)$ which we compare to the actual labels stored in the actual $y_{test}$."
      ]
    },
    {
      "cell_type": "code",
      "metadata": {
        "id": "wuO_4Uywghm4"
      },
      "source": [
        "import tensorflow as tf\n",
        "\n",
        "model_e2e = tf.keras.models.Sequential()\n",
        "model_e2e.add(tf.keras.Input(shape=(fs,1))) #Make sure that the input size is the size of the signal\n",
        "model_e2e.add(tf.keras.layers.BatchNormalization(axis=-1, momentum=0.99, epsilon=1e-3, center=True, scale=True, )) #adjust input to unit variance and zero mean\n",
        "#First Conv1D layer\n",
        "model_e2e.add(tf.keras.layers.Conv1D(8,13, padding='valid', activation='relu', strides=1)) #Convolve with 8 1D kernels of length 13\n",
        "model_e2e.add(tf.keras.layers.MaxPooling1D(3)) #Downsample - take the max out of every three elements\n",
        "model_e2e.add(tf.keras.layers.Dropout(0.3)) #drop nodes with probability 0.3\n",
        "#Second Conv1D layer\n",
        "model_e2e.add(tf.keras.layers.Conv1D(16, 11, padding='valid', activation='relu', strides=1)) #Convolve with 16 1D kernels of length 11\n",
        "model_e2e.add(tf.keras.layers.MaxPooling1D(3))\n",
        "model_e2e.add(tf.keras.layers.Dropout(0.3))\n",
        "#Third Conv1D layer\n",
        "model_e2e.add(tf.keras.layers.Conv1D(32, 9, padding='valid', activation='relu', strides=1))\n",
        "model_e2e.add(tf.keras.layers.MaxPooling1D(3))\n",
        "model_e2e.add(tf.keras.layers.Dropout(0.3))\n",
        "model_e2e.add(tf.keras.layers.BatchNormalization(axis=-1, momentum=0.99, epsilon=1e-3, center=True, scale=True))\n",
        "model_e2e.add(tf.keras.layers.Bidirectional(tf.python.keras.layers.CuDNNGRU(128, return_sequences=True), merge_mode='sum')) #Recurrent layer, uses time series data\n",
        "model_e2e.add(tf.keras.layers.Bidirectional(tf.python.keras.layers.CuDNNGRU(128, return_sequences=True), merge_mode='sum'))\n",
        "model_e2e.add(tf.keras.layers.Bidirectional(tf.python.keras.layers.CuDNNGRU(128, return_sequences=False), merge_mode='sum')) #set return sequences to False for last recurrent layer\n",
        "model_e2e.add(tf.keras.layers.BatchNormalization(axis=-1, momentum=0.99, epsilon=1e-3, center=True, scale=True))\n",
        "#Flatten layer\n",
        "model_e2e.add(tf.keras.layers.Flatten()) # Turn 2D result of convolution to a single vector\n",
        "#Dense Layer 1\n",
        "model_e2e.add(tf.keras.layers.Dense(256, activation='relu')) #Fully connected layer\n",
        "model_e2e.add(tf.keras.layers. Dense(10, activation=\"softmax\")) #output layer, need size = num_classes\n",
        "model_e2e.summary() #show breakdown of parameters\n",
        "\n",
        "model_e2e.compile(loss='categorical_crossentropy', optimizer='nadam', metrics=['accuracy']) #decide loss function and metrics\n",
        "\n",
        "hist = model_e2e.fit(\n",
        "    x=X_sig_train, \n",
        "    y=y_train,\n",
        "    epochs=50, \n",
        "    batch_size=32)\n"
      ],
      "execution_count": null,
      "outputs": []
    },
    {
      "cell_type": "code",
      "metadata": {
        "id": "-VfDRKhi0fR8",
        "colab": {
          "base_uri": "https://localhost:8080/"
        },
        "outputId": "807670b0-60d6-49ae-cb10-9f578a2fbfd8"
      },
      "source": [
        "model_e2e.evaluate(X_sig_test, y_test)"
      ],
      "execution_count": null,
      "outputs": [
        {
          "output_type": "stream",
          "text": [
            "16/16 [==============================] - 5s 299ms/step - loss: 0.3848 - accuracy: 0.8878\n"
          ],
          "name": "stdout"
        },
        {
          "output_type": "execute_result",
          "data": {
            "text/plain": [
              "[0.38484877347946167, 0.8877755403518677]"
            ]
          },
          "metadata": {
            "tags": []
          },
          "execution_count": 13
        }
      ]
    },
    {
      "cell_type": "markdown",
      "metadata": {
        "id": "8o5rJbIN_39r"
      },
      "source": [
        "Now we'll move on to performing speech recognition by identifying the image of the spectrogram.  We'll begon by concatenating the features extracted into a matrix"
      ]
    },
    {
      "cell_type": "code",
      "metadata": {
        "id": "VKUeL4Kqitr1",
        "colab": {
          "base_uri": "https://localhost:8080/"
        },
        "outputId": "cb27285a-ff08-47e4-b2ed-c3df03b12d78"
      },
      "source": [
        "X_im = np.vstack(all_feat_list)\n",
        "X_im=np.array(X_im.reshape(X_im.shape[0],X_im.shape[1],X_im.shape[2], 1))\n",
        "print(X_im.shape) "
      ],
      "execution_count": null,
      "outputs": [
        {
          "output_type": "stream",
          "text": [
            "(2494, 128, 32, 1)\n"
          ],
          "name": "stdout"
        }
      ]
    },
    {
      "cell_type": "markdown",
      "metadata": {
        "id": "93yJ6lovAH9G"
      },
      "source": [
        "Let's view an image of our features"
      ]
    },
    {
      "cell_type": "code",
      "metadata": {
        "id": "srYJlxPYY6vi",
        "colab": {
          "base_uri": "https://localhost:8080/",
          "height": 857
        },
        "outputId": "3671794f-f23c-4247-eaa7-aa0469e121de"
      },
      "source": [
        "import matplotlib.pyplot as plt\n",
        "im = X_im[100,:,:].reshape(X_im.shape[1],X_im.shape[2])\n",
        "im=im[::-1,:]\n",
        "plt.figure(figsize=(20,10), dpi=100)\n",
        "plt.imshow(im)\n",
        "plt.ylabel('frequency (bin number)')\n",
        "plt.xlabel('time (frame number)')\n",
        "plt.title('A random spectrogram');\n"
      ],
      "execution_count": null,
      "outputs": [
        {
          "output_type": "display_data",
          "data": {
            "image/png": "[encoded data removed]",
            "text/plain": [
              "<Figure size 2000x1000 with 1 Axes>"
            ]
          },
          "metadata": {
            "tags": [],
            "needs_background": "light"
          }
        }
      ]
    },
    {
      "cell_type": "markdown",
      "metadata": {
        "id": "gcg5w9COAn2p"
      },
      "source": [
        "We'll similarly split our whole set into testing and training sets"
      ]
    },
    {
      "cell_type": "code",
      "metadata": {
        "id": "PYpTPetTl-tv"
      },
      "source": [
        "from sklearn.model_selection import train_test_split\n",
        "\n",
        "X_im_train, X_im_test, y_train, y_test = train_test_split(X_im, y, test_size=0.2, random_state=42)"
      ],
      "execution_count": null,
      "outputs": []
    },
    {
      "cell_type": "markdown",
      "metadata": {
        "id": "hdVkeqUdPmkt"
      },
      "source": [
        "Here we similarly train a CNN to recognize the images generated from the speech signals.  We again create the sequential model, and specify the input size in the first layer.\n",
        "\n",
        "The imput matrix contains a collection of 2D signals.  Here the input matrix is of the shape (number_of_images, number_of_features (or height of each image), number_of_frames (or width of each image), 1).  If these were color RGB images, then we would need to replace the 1 with a 3 to let the network know that the signals have a depth of 3.  We will stick with grayscale images for simplicity.  We tell the network to expect some number of images with a shape of (num_features, num_timesteps, 1) as the input here.\n",
        "\n",
        "This input is then passed into multiple 2D convolutional layers with maxpooling as regularization between.  This 2D maxpooling downsamples accross both the x and y dimensions of the image.\n",
        "\n",
        "The output of the last conv layer is then flattened into a 1D vector and passed to the multilayer perceptiron for a final classification decision in the same way as in the end to end model."
      ]
    },
    {
      "cell_type": "code",
      "metadata": {
        "id": "kMI6XVfZUeM-"
      },
      "source": [
        "\n",
        "import tensorflow as tf\n",
        "\n",
        "n_features = X_im.shape[1]\n",
        "time_steps = X_im.shape[2]\n",
        "\n",
        "model_cnn = tf.keras.models.Sequential()\n",
        "model_cnn.add(tf.keras.layers.Conv2D(32, (3, 3), activation='relu', kernel_initializer='he_uniform', padding='same', input_shape=(n_features, time_steps, 1))) # convolve with 32 kernels of size 3 x 3\n",
        "model_cnn.add(tf.keras.layers.Conv2D(32, (3, 3), activation='relu', kernel_initializer='he_uniform', padding='same')) # convolve with 32 kernels of size 3 x 3\n",
        "model_cnn.add(tf.keras.layers.MaxPooling2D((2, 2))) #Dowmsample by 2 in each direction- take max element of every 2\n",
        "model_cnn.add(tf.keras.layers.Conv2D(64, (3, 3), activation='relu', kernel_initializer='he_uniform', padding='same')) # convolve with 64 kernels of size 3 x 3\n",
        "model_cnn.add(tf.keras.layers.Conv2D(64, (3, 3), activation='relu', kernel_initializer='he_uniform', padding='same'))\n",
        "model_cnn.add(tf.keras.layers.MaxPooling2D((2, 2)))\n",
        "model_cnn.add(tf.keras.layers.Conv2D(128, (3, 3), activation='relu', kernel_initializer='he_uniform', padding='same')) # convolve with 128 kernels of size 3 x 3\n",
        "model_cnn.add(tf.keras.layers.Conv2D(128, (3, 3), activation='relu', kernel_initializer='he_uniform', padding='same'))\n",
        "model_cnn.add(tf.keras.layers.MaxPooling2D((2, 2)))\n",
        "model_cnn.add(tf.keras.layers.Flatten()) # Flatten output into a vector\n",
        "model_cnn.add(tf.keras.layers.Dense(128, activation='relu', kernel_initializer='he_uniform')) # Fully connected layer with 128 nodes\n",
        "model_cnn.add(tf.keras.layers.Dense(10, activation='softmax')) #output layer, size must equal the number of classes\n",
        "\n",
        "Adam=tf.keras.optimizers.Adam(lr=0.01, beta_1=0.9, beta_2=0.999, epsilon=None, decay=0.9, amsgrad=False)\n",
        "\n",
        "model_cnn.compile(loss='categorical_crossentropy',\n",
        "              optimizer=Adam,\n",
        "              metrics=['accuracy'])\n",
        "model_cnn.summary() #print out breakdown of model parameters\n",
        "history=model_cnn.fit(X_im_train, y_train, validation_split = 0.2, batch_size=200, epochs=500)"
      ],
      "execution_count": null,
      "outputs": []
    },
    {
      "cell_type": "code",
      "metadata": {
        "id": "7QKD5RvatI1U",
        "colab": {
          "base_uri": "https://localhost:8080/"
        },
        "outputId": "562e8a67-1b1d-4212-b874-2e591be6458f"
      },
      "source": [
        "model_cnn.evaluate(X_im_test, y_test)"
      ],
      "execution_count": null,
      "outputs": [
        {
          "output_type": "stream",
          "text": [
            "16/16 [==============================] - 0s 5ms/step - loss: 43843340.0000 - accuracy: 0.2124\n"
          ],
          "name": "stdout"
        },
        {
          "output_type": "execute_result",
          "data": {
            "text/plain": [
              "[43843340.0, 0.2124248445034027]"
            ]
          },
          "metadata": {
            "tags": []
          },
          "execution_count": 115
        }
      ]
    },
    {
      "cell_type": "markdown",
      "metadata": {
        "id": "qWoBr5dqRaFH"
      },
      "source": [
        "Now that we've run this experiment on clean, noise-free signals taken with high quality microphones, and recorded by speakers all with similar speaking styles and accents, let's explore a less ideal case.  In real life, you can rarely expect the input speech to be of such high quality and need to prepare to handle common degradations in the signals.  There could be additive, noise in the background, there could be multiple speakers talking over each other, a speaker could have an accent not present in the training data, etc..  We need to be creative in how we deal with these challenges.  Here we'll introduce another common problem in audio processing: Reverberation.  Reverberations, or echos, occur when not only the original signal reaches the recording device, but also reflections of the soundwave off of nearby surfaces are directed at the microphone and also appear in the signal.  This can be modeled as multiple delayed and attenuated versions of the original signal being added back into the original signal through convolution with a room impulse function.  For this reason, we often refer to reverberations as convolutional noise, as opposed to addative noise which is added on top of the signal"
      ]
    },
    {
      "cell_type": "markdown",
      "metadata": {
        "id": "_tsSq8IPSQWE"
      },
      "source": [
        "Install the pyroomacoustics library.  It is a helpful python library that deals with calculating the effects of echos in a given"
      ]
    },
    {
      "cell_type": "code",
      "metadata": {
        "id": "YTwoX2oBCbzN",
        "colab": {
          "base_uri": "https://localhost:8080/"
        },
        "outputId": "7ad0b85f-143c-4c74-9c93-f0caa96aeb4d"
      },
      "source": [
        "!pip install pyroomacoustics"
      ],
      "execution_count": null,
      "outputs": [
        {
          "output_type": "stream",
          "text": [
            "Collecting pyroomacoustics\n",
            "\u001b[?25l  Downloading https://files.pythonhosted.org/packages/4d/49/73e2d8fba52663bf8c1eaf70867cc0e70b8aef0cd3232b86117777af1ca8/pyroomacoustics-0.4.2.tar.gz (1.1MB)\n",
            "\r\u001b[K     |▎                               | 10kB 23.8MB/s eta 0:00:01\r\u001b[K     |▋                               | 20kB 17.2MB/s eta 0:00:01\r\u001b[K     |█                               | 30kB 15.3MB/s eta 0:00:01\r\u001b[K     |█▎                              | 40kB 14.6MB/s eta 0:00:01\r\u001b[K     |█▋                              | 51kB 11.5MB/s eta 0:00:01\r\u001b[K     |█▉                              | 61kB 11.6MB/s eta 0:00:01\r\u001b[K     |██▏                             | 71kB 11.8MB/s eta 0:00:01\r\u001b[K     |██▌                             | 81kB 13.0MB/s eta 0:00:01\r\u001b[K     |██▉                             | 92kB 12.2MB/s eta 0:00:01\r\u001b[K     |███▏                            | 102kB 13.2MB/s eta 0:00:01\r\u001b[K     |███▍                            | 112kB 13.2MB/s eta 0:00:01\r\u001b[K     |███▊                            | 122kB 13.2MB/s eta 0:00:01\r\u001b[K     |████                            | 133kB 13.2MB/s eta 0:00:01\r\u001b[K     |████▍                           | 143kB 13.2MB/s eta 0:00:01\r\u001b[K     |████▊                           | 153kB 13.2MB/s eta 0:00:01\r\u001b[K     |█████                           | 163kB 13.2MB/s eta 0:00:01\r\u001b[K     |█████▎                          | 174kB 13.2MB/s eta 0:00:01\r\u001b[K     |█████▋                          | 184kB 13.2MB/s eta 0:00:01\r\u001b[K     |██████                          | 194kB 13.2MB/s eta 0:00:01\r\u001b[K     |██████▎                         | 204kB 13.2MB/s eta 0:00:01\r\u001b[K     |██████▌                         | 215kB 13.2MB/s eta 0:00:01\r\u001b[K     |██████▉                         | 225kB 13.2MB/s eta 0:00:01\r\u001b[K     |███████▏                        | 235kB 13.2MB/s eta 0:00:01\r\u001b[K     |███████▌                        | 245kB 13.2MB/s eta 0:00:01\r\u001b[K     |███████▉                        | 256kB 13.2MB/s eta 0:00:01\r\u001b[K     |████████                        | 266kB 13.2MB/s eta 0:00:01\r\u001b[K     |████████▍                       | 276kB 13.2MB/s eta 0:00:01\r\u001b[K     |████████▊                       | 286kB 13.2MB/s eta 0:00:01\r\u001b[K     |█████████                       | 296kB 13.2MB/s eta 0:00:01\r\u001b[K     |█████████▍                      | 307kB 13.2MB/s eta 0:00:01\r\u001b[K     |█████████▋                      | 317kB 13.2MB/s eta 0:00:01\r\u001b[K     |██████████                      | 327kB 13.2MB/s eta 0:00:01\r\u001b[K     |██████████▎                     | 337kB 13.2MB/s eta 0:00:01\r\u001b[K     |██████████▋                     | 348kB 13.2MB/s eta 0:00:01\r\u001b[K     |███████████                     | 358kB 13.2MB/s eta 0:00:01\r\u001b[K     |███████████▏                    | 368kB 13.2MB/s eta 0:00:01\r\u001b[K     |███████████▌                    | 378kB 13.2MB/s eta 0:00:01\r\u001b[K     |███████████▉                    | 389kB 13.2MB/s eta 0:00:01\r\u001b[K     |████████████▏                   | 399kB 13.2MB/s eta 0:00:01\r\u001b[K     |████████████▌                   | 409kB 13.2MB/s eta 0:00:01\r\u001b[K     |████████████▊                   | 419kB 13.2MB/s eta 0:00:01\r\u001b[K     |█████████████                   | 430kB 13.2MB/s eta 0:00:01\r\u001b[K     |█████████████▍                  | 440kB 13.2MB/s eta 0:00:01\r\u001b[K     |█████████████▊                  | 450kB 13.2MB/s eta 0:00:01\r\u001b[K     |██████████████                  | 460kB 13.2MB/s eta 0:00:01\r\u001b[K     |██████████████▍                 | 471kB 13.2MB/s eta 0:00:01\r\u001b[K     |██████████████▋                 | 481kB 13.2MB/s eta 0:00:01\r\u001b[K     |███████████████                 | 491kB 13.2MB/s eta 0:00:01\r\u001b[K     |███████████████▎                | 501kB 13.2MB/s eta 0:00:01\r\u001b[K     |███████████████▋                | 512kB 13.2MB/s eta 0:00:01\r\u001b[K     |████████████████                | 522kB 13.2MB/s eta 0:00:01\r\u001b[K     |████████████████▏               | 532kB 13.2MB/s eta 0:00:01\r\u001b[K     |████████████████▌               | 542kB 13.2MB/s eta 0:00:01\r\u001b[K     |████████████████▉               | 552kB 13.2MB/s eta 0:00:01\r\u001b[K     |█████████████████▏              | 563kB 13.2MB/s eta 0:00:01\r\u001b[K     |█████████████████▌              | 573kB 13.2MB/s eta 0:00:01\r\u001b[K     |█████████████████▊              | 583kB 13.2MB/s eta 0:00:01\r\u001b[K     |██████████████████              | 593kB 13.2MB/s eta 0:00:01\r\u001b[K     |██████████████████▍             | 604kB 13.2MB/s eta 0:00:01\r\u001b[K     |██████████████████▊             | 614kB 13.2MB/s eta 0:00:01\r\u001b[K     |███████████████████             | 624kB 13.2MB/s eta 0:00:01\r\u001b[K     |███████████████████▎            | 634kB 13.2MB/s eta 0:00:01\r\u001b[K     |███████████████████▋            | 645kB 13.2MB/s eta 0:00:01\r\u001b[K     |████████████████████            | 655kB 13.2MB/s eta 0:00:01\r\u001b[K     |████████████████████▎           | 665kB 13.2MB/s eta 0:00:01\r\u001b[K     |████████████████████▋           | 675kB 13.2MB/s eta 0:00:01\r\u001b[K     |████████████████████▉           | 686kB 13.2MB/s eta 0:00:01\r\u001b[K     |█████████████████████▏          | 696kB 13.2MB/s eta 0:00:01\r\u001b[K     |█████████████████████▌          | 706kB 13.2MB/s eta 0:00:01\r\u001b[K     |█████████████████████▉          | 716kB 13.2MB/s eta 0:00:01\r\u001b[K     |██████████████████████▏         | 727kB 13.2MB/s eta 0:00:01\r\u001b[K     |██████████████████████▍         | 737kB 13.2MB/s eta 0:00:01\r\u001b[K     |██████████████████████▊         | 747kB 13.2MB/s eta 0:00:01\r\u001b[K     |███████████████████████         | 757kB 13.2MB/s eta 0:00:01\r\u001b[K     |███████████████████████▍        | 768kB 13.2MB/s eta 0:00:01\r\u001b[K     |███████████████████████▊        | 778kB 13.2MB/s eta 0:00:01\r\u001b[K     |████████████████████████        | 788kB 13.2MB/s eta 0:00:01\r\u001b[K     |████████████████████████▎       | 798kB 13.2MB/s eta 0:00:01\r\u001b[K     |████████████████████████▋       | 808kB 13.2MB/s eta 0:00:01\r\u001b[K     |█████████████████████████       | 819kB 13.2MB/s eta 0:00:01\r\u001b[K     |█████████████████████████▎      | 829kB 13.2MB/s eta 0:00:01\r\u001b[K     |█████████████████████████▌      | 839kB 13.2MB/s eta 0:00:01\r\u001b[K     |█████████████████████████▉      | 849kB 13.2MB/s eta 0:00:01\r\u001b[K     |██████████████████████████▏     | 860kB 13.2MB/s eta 0:00:01\r\u001b[K     |██████████████████████████▌     | 870kB 13.2MB/s eta 0:00:01\r\u001b[K     |██████████████████████████▉     | 880kB 13.2MB/s eta 0:00:01\r\u001b[K     |███████████████████████████▏    | 890kB 13.2MB/s eta 0:00:01\r\u001b[K     |███████████████████████████▍    | 901kB 13.2MB/s eta 0:00:01\r\u001b[K     |███████████████████████████▊    | 911kB 13.2MB/s eta 0:00:01\r\u001b[K     |████████████████████████████    | 921kB 13.2MB/s eta 0:00:01\r\u001b[K     |████████████████████████████▍   | 931kB 13.2MB/s eta 0:00:01\r\u001b[K     |████████████████████████████▊   | 942kB 13.2MB/s eta 0:00:01\r\u001b[K     |█████████████████████████████   | 952kB 13.2MB/s eta 0:00:01\r\u001b[K     |█████████████████████████████▎  | 962kB 13.2MB/s eta 0:00:01\r\u001b[K     |█████████████████████████████▋  | 972kB 13.2MB/s eta 0:00:01\r\u001b[K     |██████████████████████████████  | 983kB 13.2MB/s eta 0:00:01\r\u001b[K     |██████████████████████████████▎ | 993kB 13.2MB/s eta 0:00:01\r\u001b[K     |██████████████████████████████▌ | 1.0MB 13.2MB/s eta 0:00:01\r\u001b[K     |██████████████████████████████▉ | 1.0MB 13.2MB/s eta 0:00:01\r\u001b[K     |███████████████████████████████▏| 1.0MB 13.2MB/s eta 0:00:01\r\u001b[K     |███████████████████████████████▌| 1.0MB 13.2MB/s eta 0:00:01\r\u001b[K     |███████████████████████████████▉| 1.0MB 13.2MB/s eta 0:00:01\r\u001b[K     |████████████████████████████████| 1.1MB 13.2MB/s \n",
            "\u001b[?25h  Installing build dependencies ... \u001b[?25l\u001b[?25hdone\n",
            "  Getting requirements to build wheel ... \u001b[?25l\u001b[?25hdone\n",
            "    Preparing wheel metadata ... \u001b[?25l\u001b[?25hdone\n",
            "Collecting pybind11>=2.2\n",
            "  Using cached https://files.pythonhosted.org/packages/00/84/fc9dc13ee536ba5e6b8fd10ce368fea5b738fe394c3b296cde7c9b144a92/pybind11-2.6.1-py2.py3-none-any.whl\n",
            "Requirement already satisfied: numpy in /usr/local/lib/python3.6/dist-packages (from pyroomacoustics) (1.18.5)\n",
            "Requirement already satisfied: scipy>=0.18.0 in /usr/local/lib/python3.6/dist-packages (from pyroomacoustics) (1.4.1)\n",
            "Requirement already satisfied: Cython in /usr/local/lib/python3.6/dist-packages (from pyroomacoustics) (0.29.21)\n",
            "Building wheels for collected packages: pyroomacoustics\n",
            "  Building wheel for pyroomacoustics (PEP 517) ... \u001b[?25l\u001b[?25hdone\n",
            "  Created wheel for pyroomacoustics: filename=pyroomacoustics-0.4.2-cp36-cp36m-linux_x86_64.whl size=9535050 sha256=36377a0795704c12791781e52087be285f410e1ccfd1fede74e81e81fea637e3\n",
            "  Stored in directory: /root/.cache/pip/wheels/a8/36/c1/e2c6c0c9a018975e20f7c4694ee1d19f768ac7b3aba168231a\n",
            "Successfully built pyroomacoustics\n",
            "Installing collected packages: pybind11, pyroomacoustics\n",
            "Successfully installed pybind11-2.6.1 pyroomacoustics-0.4.2\n"
          ],
          "name": "stdout"
        }
      ]
    },
    {
      "cell_type": "markdown",
      "metadata": {
        "id": "dXMy3401TDFN"
      },
      "source": [
        "Read in a new test set from another text file"
      ]
    },
    {
      "cell_type": "code",
      "metadata": {
        "id": "1i4OVDjq_9EN"
      },
      "source": [
        "text_file = open(\"testing_digit_list.txt\", \"r\")\n",
        "testing_list = text_file.read().splitlines()"
      ],
      "execution_count": null,
      "outputs": []
    },
    {
      "cell_type": "markdown",
      "metadata": {
        "id": "u6WbLXSsTIfQ"
      },
      "source": [
        "Add reverberations to the test signals using the pyroom acoustic library"
      ]
    },
    {
      "cell_type": "code",
      "metadata": {
        "id": "1Cc9oD9ZAuHH",
        "colab": {
          "base_uri": "https://localhost:8080/",
          "height": 122,
          "referenced_widgets": [
            "834fbfbfcee34d11b0de5c4be87b1d4d",
            "c182f50a044d44a7a03d05cac015c53a",
            "8e0f1f6fdbd4480a8a39bc80af99727d",
            "5263c0014c004dfa894897acd205c7c2",
            "edc6589504b644c99e8ae2ae43844b83",
            "8171dd1230e54553aa6020a7b1c0b347",
            "4abb290f9b864e5c894bdafbfb746b0f",
            "c07f1cc379774c09adaecab941aac3d9"
          ]
        },
        "outputId": "fb0461aa-ed23-4131-d8fe-59bef88608d6"
      },
      "source": [
        "from tqdm.notebook import tnrange\n",
        "import pyroomacoustics as pra\n",
        "import scipy.io.wavfile as wav\n",
        "import numpy as np\n",
        "import librosa.feature as lf\n",
        "\n",
        "all_reverb_signals =[]\n",
        "all_reverb_feat=[]\n",
        "all_reverb_feat2=[]\n",
        "all_reverb_feat3=[]\n",
        "all_reverb_feat4=[]\n",
        "all_reverb_feat5=[]\n",
        "all_reverb_feat6=[]\n",
        "all_reverb_feat7=[]\n",
        "all_reverb_feat8=[]\n",
        "all_reverb_feat9=[]\n",
        "all_reverb_feat10=[]\n",
        "all_reverb_feat11=[]\n",
        "all_reverb_feat12=[]\n",
        "trial_labels = []\n",
        "\n",
        "# The desired reverberation time and dimensions of the room\n",
        "rt60 = 1.0  # seconds\n",
        "room_dim = [20, 30, 10]  # meters\n",
        "\n",
        "e_absorption, max_order = pra.inverse_sabine(rt60, room_dim)\n",
        "\n",
        "# Create the room\n",
        "for i in tnrange(len(testing_list)):\n",
        "\n",
        "  fs, audio = wav.read(testing_list[i])\n",
        "  room = pra.ShoeBox(\n",
        "      room_dim, fs=fs, materials=pra.Material(e_absorption), max_order=max_order\n",
        "  )\n",
        "\n",
        "  # place the source in the room\n",
        "  room.add_source([2.5, 3.73, 1.76], signal=audio, delay=1.3)\n",
        "\n",
        "  mic_locs = np.c_[\n",
        "      [10, 1, 1], \n",
        "  ]\n",
        "\n",
        "  # finally place the array in the room\n",
        "  room.add_microphone_array(mic_locs)\n",
        "\n",
        "  # Run the simulation (this will also build the RIR automatically)\n",
        "  room.simulate()\n",
        "\n",
        "  mics_signals = room.mic_array.signals\n",
        "  mics_signals = mics_signals.reshape(mics_signals.size,)\n",
        "  z=mics_signals[int(1.5*fs):int(2.5*fs)]\n",
        "\n",
        "  # five features\n",
        "  feat = lf.melspectrogram(z.astype('float'), sr =fs)\n",
        "  feat2 = lf.mfcc(z.astype('float'), sr=fs, n_fft=512)\n",
        "\n",
        "  feat1= lf.poly_features(z.astype('float'),sr=fs, n_fft=512)\n",
        "  feat3=np.vstack((feat1, feat1, feat1, feat1, feat1))\n",
        "\n",
        "  feat1= lf.spectral_centroid(z.astype('float'), sr =fs)\n",
        "  feat4=np.vstack((feat1, feat1, feat1, feat1, feat1, feat1, feat1, feat1))\n",
        "  \n",
        "  feat1= lf.spectral_contrast(z.astype('float'), sr =fs)\n",
        "  feat5=np.vstack((feat1, feat1, feat1, feat1, feat1, feat1, feat1, feat1))\n",
        "\n",
        "  #Altered Mel Spectrogram Parameters\n",
        "  feat6 = lf.melspectrogram(z.astype('float'), sr = fs, win_length = 1024)\n",
        "  \n",
        "  feat7 = lf.melspectrogram(z.astype('float'), sr = fs, win_length = 1024, hop_length = 1024)\n",
        "  \n",
        "  feat8 = lf.melspectrogram(z.astype('float'), sr = fs, win_length = 512, hop_length = 1024)\n",
        "\n",
        "  #Combined Features\n",
        "  feat9 = np.vstack((feat2, feat4))\n",
        "\n",
        "  feat10 = np.vstack((feat2, feat))\n",
        "\n",
        "  feat11 = np.vstack((feat, feat4))\n",
        "\n",
        "  feat12 = np.vstack((feat2, feat4, feat))\n",
        "\n",
        "  all_reverb_signals.append(z.astype('float'))\n",
        "  all_reverb_feat.append(feat.reshape(1, feat.shape[0], feat.shape[1]))\n",
        "  all_reverb_feat2.append(feat2.reshape(1, feat2.shape[0], feat2.shape[1]))\n",
        "  all_reverb_feat3.append(feat3.reshape(1, feat3.shape[0], feat3.shape[1]))\n",
        "  all_reverb_feat4.append(feat4.reshape(1, feat4.shape[0], feat4.shape[1]))\n",
        "  all_reverb_feat5.append(feat5.reshape(1, feat5.shape[0], feat5.shape[1]))\n",
        "  all_reverb_feat6.append(feat6.reshape(1, feat6.shape[0], feat6.shape[1]))\n",
        "  all_reverb_feat7.append(feat7.reshape(1, feat7.shape[0], feat7.shape[1]))\n",
        "  all_reverb_feat8.append(feat8.reshape(1, feat8.shape[0], feat8.shape[1]))\n",
        "  all_reverb_feat9.append(feat9.reshape(1, feat9.shape[0], feat9.shape[1]))\n",
        "  all_reverb_feat10.append(feat10.reshape(1, feat10.shape[0], feat10.shape[1]))\n",
        "  all_reverb_feat11.append(feat11.reshape(1, feat11.shape[0], feat11.shape[1]))\n",
        "  all_reverb_feat12.append(feat12.reshape(1, feat12.shape[0], feat12.shape[1]))\n",
        "\n",
        "  # get labels from the file name (ie which word is in the audio file)\n",
        "  which_word=testing_list[i].split('/')[0]\n",
        "  trial_labels.append(which_word)\n",
        "  \n"
      ],
      "execution_count": null,
      "outputs": [
        {
          "output_type": "display_data",
          "data": {
            "application/vnd.jupyter.widget-view+json": {
              "model_id": "834fbfbfcee34d11b0de5c4be87b1d4d",
              "version_minor": 0,
              "version_major": 2
            },
            "text/plain": [
              "HBox(children=(FloatProgress(value=0.0, max=2552.0), HTML(value='')))"
            ]
          },
          "metadata": {
            "tags": []
          }
        },
        {
          "output_type": "stream",
          "text": [
            "/usr/local/lib/python3.6/dist-packages/pyroomacoustics/room.py:905: UserWarning: The number of rays used for ray tracing is larger than100000 which may result in slow simulation.  The numberof rays was automatically chosen to provide accurateroom impulse response based on the room volume and thereceiver radius around the microphones.  The number ofrays may be reduced by increasing the size of thereceiver.  This tends to happen especially for largerooms with small receivers.  The receiver is a spherearound the microphone and its radius (in meters) may bespecified by providing the `receiver_radius` keywordargument to the `set_ray_tracing` method.\n",
            "  \"The number of rays used for ray tracing is larger than\"\n"
          ],
          "name": "stderr"
        },
        {
          "output_type": "stream",
          "text": [
            "\n"
          ],
          "name": "stdout"
        }
      ]
    },
    {
      "cell_type": "markdown",
      "metadata": {
        "id": "at_ebq7YTQ-S"
      },
      "source": [
        "Encode the labels from the new dataset using the same encoding scheme used previously."
      ]
    },
    {
      "cell_type": "code",
      "metadata": {
        "id": "PruJymKkFcbT"
      },
      "source": [
        "\n",
        "le.fit(trial_labels)\n",
        "\n",
        "encoded_labels = le.transform(trial_labels)\n",
        "\n",
        "oh_enc = preprocessing.OneHotEncoder()\n",
        "oh_enc.fit(encoded_labels.reshape(-1,1))\n",
        "\n",
        "y_trial = oh_enc.transform(encoded_labels.reshape(-1,1))\n",
        "y_trial = sp.sparse.csr_matrix.toarray(y_trial)"
      ],
      "execution_count": null,
      "outputs": []
    },
    {
      "cell_type": "code",
      "metadata": {
        "id": "QWUaTXiBUdtm",
        "colab": {
          "base_uri": "https://localhost:8080/"
        },
        "outputId": "da6563a2-2aca-4b94-ae73-7def25e7573c"
      },
      "source": [
        "print(len(all_reverb_signals),len(all_reverb_feat))"
      ],
      "execution_count": null,
      "outputs": [
        {
          "output_type": "stream",
          "text": [
            "2552 2552\n"
          ],
          "name": "stdout"
        }
      ]
    },
    {
      "cell_type": "markdown",
      "metadata": {
        "id": "DB1cFc-hTXLr"
      },
      "source": [
        "Listen to an audio signal with reverb"
      ]
    },
    {
      "cell_type": "code",
      "metadata": {
        "id": "XJUFVnilCKsM",
        "colab": {
          "base_uri": "https://localhost:8080/",
          "height": 74
        },
        "outputId": "3a381c45-06b9-45c9-acbc-6882af918e0e"
      },
      "source": [
        "IPython.display.Audio(all_reverb_signals[0], rate=fs)"
      ],
      "execution_count": null,
      "outputs": [
        {
          "output_type": "execute_result",
          "data": {
            "text/html": [
              "\n",
              "                <audio controls=\"controls\" >\n",
              "                    <source src=\"data:audio/wav;base64,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\" type=\"audio/wav\" />\n",
              "                    Your browser does not support the audio element.\n",
              "                </audio>\n",
              "              "
            ],
            "text/plain": [
              "<IPython.lib.display.Audio object>"
            ]
          },
          "metadata": {
            "tags": []
          },
          "execution_count": 26
        }
      ]
    },
    {
      "cell_type": "markdown",
      "metadata": {
        "id": "w7BInPVUTaQn"
      },
      "source": [
        "Confirm the size of the test signals"
      ]
    },
    {
      "cell_type": "code",
      "metadata": {
        "id": "geypTPIe9gRL",
        "colab": {
          "base_uri": "https://localhost:8080/"
        },
        "outputId": "cdc33341-bddb-4d18-f2a9-35f2e77086ff"
      },
      "source": [
        "X_sig_rev=np.vstack(all_reverb_signals)\n",
        "X_sig_rev=X_sig_rev.reshape(X_sig_rev.shape[0],X_sig_rev.shape[1],1)\n",
        "print(X_sig_rev.shape)"
      ],
      "execution_count": null,
      "outputs": [
        {
          "output_type": "stream",
          "text": [
            "(2552, 16000, 1)\n"
          ],
          "name": "stdout"
        }
      ]
    },
    {
      "cell_type": "code",
      "metadata": {
        "id": "WVDmJIV0U34-",
        "colab": {
          "base_uri": "https://localhost:8080/"
        },
        "outputId": "b8c4496b-6a30-4a34-bc94-4a5ca0b2f70b"
      },
      "source": [
        "X_im_rev = np.vstack(all_reverb_feat)\n",
        "X_im_rev=X_im_rev.reshape(X_im_rev.shape[0],X_im_rev.shape[1],X_im_rev.shape[2], 1)\n",
        "print(all_reverb_feat[0].shape)\n",
        "print(X_im_rev.shape)"
      ],
      "execution_count": null,
      "outputs": [
        {
          "output_type": "stream",
          "text": [
            "(1, 128, 32)\n",
            "(2552, 128, 32, 1)\n"
          ],
          "name": "stdout"
        }
      ]
    },
    {
      "cell_type": "markdown",
      "metadata": {
        "id": "QAioOdcjTd0X"
      },
      "source": [
        "View an image with reverb"
      ]
    },
    {
      "cell_type": "code",
      "metadata": {
        "id": "dBXjY1CqDFfZ",
        "colab": {
          "base_uri": "https://localhost:8080/",
          "height": 857
        },
        "outputId": "b72e7c54-5e9b-4307-a3de-82a2b1b23e45"
      },
      "source": [
        "im = X_im_rev[1,:,:].reshape(X_im_rev.shape[1],X_im_rev.shape[2])\n",
        "im=im[::-1,:]\n",
        "plt.figure(figsize=(20,10), dpi=100)\n",
        "plt.imshow(im)\n",
        "plt.ylabel('frequency (bin number)')\n",
        "plt.xlabel('time (frame number)')\n",
        "plt.title('A random spectrogram with reverb');"
      ],
      "execution_count": null,
      "outputs": [
        {
          "output_type": "display_data",
          "data": {
            "image/png": "[encoded data removed]",
            "text/plain": [
              "<Figure size 2000x1000 with 1 Axes>"
            ]
          },
          "metadata": {
            "tags": [],
            "needs_background": "light"
          }
        }
      ]
    },
    {
      "cell_type": "markdown",
      "metadata": {
        "id": "svJ9Ay5RThQb"
      },
      "source": [
        "Now evaluate the performance of the models on the test sets with reverb."
      ]
    },
    {
      "cell_type": "code",
      "metadata": {
        "id": "80YaTqHiYjpA",
        "colab": {
          "base_uri": "https://localhost:8080/"
        },
        "outputId": "85acb81a-616f-4bd2-f774-c9288308635d"
      },
      "source": [
        "model_e2e.evaluate(X_sig_rev, y_trial)"
      ],
      "execution_count": null,
      "outputs": [
        {
          "output_type": "stream",
          "text": [
            "80/80 [==============================] - 10s 127ms/step - loss: 1.7311 - accuracy: 0.4832\n"
          ],
          "name": "stdout"
        },
        {
          "output_type": "execute_result",
          "data": {
            "text/plain": [
              "[1.7311031818389893, 0.4831504821777344]"
            ]
          },
          "metadata": {
            "tags": []
          },
          "execution_count": 30
        }
      ]
    },
    {
      "cell_type": "code",
      "metadata": {
        "id": "hJDoyo7y9UJY",
        "colab": {
          "base_uri": "https://localhost:8080/"
        },
        "outputId": "f04fecfd-45f3-4662-829b-4e4a25e0df9b"
      },
      "source": [
        "model_cnn.evaluate(X_im_rev, y_trial)"
      ],
      "execution_count": null,
      "outputs": [
        {
          "output_type": "stream",
          "text": [
            "80/80 [==============================] - 0s 5ms/step - loss: 3816935.0000 - accuracy: 0.1673\n"
          ],
          "name": "stdout"
        },
        {
          "output_type": "execute_result",
          "data": {
            "text/plain": [
              "[3816935.0, 0.16731974482536316]"
            ]
          },
          "metadata": {
            "tags": []
          },
          "execution_count": 121
        }
      ]
    },
    {
      "cell_type": "markdown",
      "metadata": {
        "id": "0mVOD7hUTm_M"
      },
      "source": [
        "We notice that the performance has worsened drastically with this degradation added to the signal  Your job in this project is to apply preprocessing to the reverberated signals as to give better performance in the networks.  Without changing the overall structure of the networks, process the reverberated signals to be more inteligible to a machine.  Think about what trends a machine will learn from the data and bring out those trends in the new test set.  Perform this for both networks.  For the end to end network, you should directly enhance the audio signals.  For the CNN, you can process the raw audio and then make your choice of feature (spectrogram, mfccs, lpcs, etc.) from the librosa library or any other library.  You can also concatenate features.  For this network, you may change the size of the input layer and retrain if your new features are of a different size than the original.  You can then apply image processing to the resulting images to the resulting image to enchance its ability to be classified correctly.  For each network, try at least 5 different processing techniques on the input signal.  Also try some combinations of those techniques and see if the combination of techniques is better or worse then the application of those techniques alone.  Submit all code at the bottom of this notebook.\n",
        "\n",
        "Note that you may not:\n",
        "1. Use additional audio files in training\n",
        "2. Introduce any overlap between the files used for training and those used for testing\n",
        "3. Add layers to any network (removing layers is fine)\n",
        "4. Assume any knowledge about the room impulse generated or add the same reverb to any training data.\n",
        "\n",
        "You should apply your knowledge of signal processing to enhance the reverberated signals for use by the neural network."
      ]
    },
    {
      "cell_type": "markdown",
      "metadata": {
        "id": "8YuU6PRvhSDi"
      },
      "source": [
        "# Feature extraction"
      ]
    },
    {
      "cell_type": "markdown",
      "metadata": {
        "id": "2LfnmM5JFDjH"
      },
      "source": [
        "## MFCC feature"
      ]
    },
    {
      "cell_type": "code",
      "metadata": {
        "id": "icAcvzlIi97s",
        "colab": {
          "base_uri": "https://localhost:8080/"
        },
        "outputId": "584309fe-ff57-47c2-9dee-d16bd7237096"
      },
      "source": [
        "X_im = np.vstack(all_feat_list2)\r\n",
        "X_im=np.array(X_im.reshape(X_im.shape[0],X_im.shape[1],X_im.shape[2], 1))\r\n",
        "print(X_im.shape) \r\n",
        "\r\n",
        "from sklearn.model_selection import train_test_split\r\n",
        "\r\n",
        "X_im_train, X_im_test, y_train, y_test = train_test_split(X_im, y, test_size=0.2, random_state=42)"
      ],
      "execution_count": null,
      "outputs": [
        {
          "output_type": "stream",
          "text": [
            "(2494, 20, 32, 1)\n"
          ],
          "name": "stdout"
        }
      ]
    },
    {
      "cell_type": "code",
      "metadata": {
        "id": "yuoB3TjujYQx"
      },
      "source": [
        "import tensorflow as tf\r\n",
        "\r\n",
        "n_features = X_im.shape[1]\r\n",
        "time_steps = X_im.shape[2]\r\n",
        "\r\n",
        "model_cnn = tf.keras.models.Sequential()\r\n",
        "model_cnn.add(tf.keras.layers.Conv2D(32, (3, 3), activation='relu', kernel_initializer='he_uniform', padding='same', input_shape=(n_features, time_steps, 1))) # convolve with 32 kernels of size 3 x 3\r\n",
        "model_cnn.add(tf.keras.layers.Conv2D(32, (3, 3), activation='relu', kernel_initializer='he_uniform', padding='same')) # convolve with 32 kernels of size 3 x 3\r\n",
        "model_cnn.add(tf.keras.layers.MaxPooling2D((2, 2))) #Dowmsample by 2 in each direction- take max element of every 2\r\n",
        "model_cnn.add(tf.keras.layers.Conv2D(64, (3, 3), activation='relu', kernel_initializer='he_uniform', padding='same')) # convolve with 64 kernels of size 3 x 3\r\n",
        "model_cnn.add(tf.keras.layers.Conv2D(64, (3, 3), activation='relu', kernel_initializer='he_uniform', padding='same'))\r\n",
        "model_cnn.add(tf.keras.layers.MaxPooling2D((2, 2)))\r\n",
        "model_cnn.add(tf.keras.layers.Conv2D(128, (3, 3), activation='relu', kernel_initializer='he_uniform', padding='same')) # convolve with 128 kernels of size 3 x 3\r\n",
        "model_cnn.add(tf.keras.layers.Conv2D(128, (3, 3), activation='relu', kernel_initializer='he_uniform', padding='same'))\r\n",
        "model_cnn.add(tf.keras.layers.MaxPooling2D((2, 2)))\r\n",
        "model_cnn.add(tf.keras.layers.Flatten()) # Flatten output into a vector\r\n",
        "model_cnn.add(tf.keras.layers.Dense(128, activation='relu', kernel_initializer='he_uniform')) # Fully connected layer with 128 nodes\r\n",
        "model_cnn.add(tf.keras.layers.Dense(10, activation='softmax')) #output layer, size must equal the number of classes\r\n",
        "\r\n",
        "Adam=tf.keras.optimizers.Adam(lr=0.01, beta_1=0.9, beta_2=0.999, epsilon=None, decay=0.9, amsgrad=False)\r\n",
        "\r\n",
        "model_cnn.compile(loss='categorical_crossentropy',\r\n",
        "              optimizer=Adam,\r\n",
        "              metrics=['accuracy'])\r\n",
        "model_cnn.summary() #print out breakdown of model parameters\r\n",
        "history=model_cnn.fit(X_im_train, y_train, validation_split = 0.2, batch_size=200, epochs=500)"
      ],
      "execution_count": null,
      "outputs": []
    },
    {
      "cell_type": "code",
      "metadata": {
        "id": "z1-aP5XrjXpq",
        "colab": {
          "base_uri": "https://localhost:8080/"
        },
        "outputId": "f4516cb9-b0cf-4d72-9b7b-5f958db9aa88"
      },
      "source": [
        "model_cnn.evaluate(X_im_test, y_test)"
      ],
      "execution_count": null,
      "outputs": [
        {
          "output_type": "stream",
          "text": [
            "16/16 [==============================] - 0s 8ms/step - loss: 1.4075 - accuracy: 0.5150\n"
          ],
          "name": "stdout"
        },
        {
          "output_type": "execute_result",
          "data": {
            "text/plain": [
              "[1.4075109958648682, 0.5150300860404968]"
            ]
          },
          "metadata": {
            "tags": []
          },
          "execution_count": 34
        }
      ]
    },
    {
      "cell_type": "code",
      "metadata": {
        "id": "XfPZb3Hxj5ps",
        "colab": {
          "base_uri": "https://localhost:8080/"
        },
        "outputId": "a1a8bccc-d350-4bdd-9d7f-fa520088954d"
      },
      "source": [
        "X_im_rev = np.vstack(all_reverb_feat2)\r\n",
        "X_im_rev=X_im_rev.reshape(X_im_rev.shape[0],X_im_rev.shape[1],X_im_rev.shape[2], 1)\r\n",
        "print(all_reverb_feat2[0].shape)\r\n",
        "print(X_im_rev.shape)"
      ],
      "execution_count": null,
      "outputs": [
        {
          "output_type": "stream",
          "text": [
            "(1, 20, 32)\n",
            "(2552, 20, 32, 1)\n"
          ],
          "name": "stdout"
        }
      ]
    },
    {
      "cell_type": "code",
      "metadata": {
        "id": "vTOgnxwVj_5p",
        "colab": {
          "base_uri": "https://localhost:8080/"
        },
        "outputId": "d3bac0ad-f60f-4140-dbdf-4275d8a32a91"
      },
      "source": [
        "model_cnn.evaluate(X_im_rev, y_trial)"
      ],
      "execution_count": null,
      "outputs": [
        {
          "output_type": "stream",
          "text": [
            "80/80 [==============================] - 0s 4ms/step - loss: 1.6562 - accuracy: 0.4024\n"
          ],
          "name": "stdout"
        },
        {
          "output_type": "execute_result",
          "data": {
            "text/plain": [
              "[1.6561661958694458, 0.402429461479187]"
            ]
          },
          "metadata": {
            "tags": []
          },
          "execution_count": 36
        }
      ]
    },
    {
      "cell_type": "markdown",
      "metadata": {
        "id": "FU52lViUFLRc"
      },
      "source": [
        "## Poly features"
      ]
    },
    {
      "cell_type": "code",
      "metadata": {
        "id": "U70LT74yDTaL",
        "colab": {
          "base_uri": "https://localhost:8080/"
        },
        "outputId": "f1af13e4-dff1-448b-eeb6-3437d42b81c0"
      },
      "source": [
        "X_im = np.vstack(all_feat_list3)\r\n",
        "X_im=np.array(X_im.reshape(X_im.shape[0],X_im.shape[1],X_im.shape[2], 1))\r\n",
        "print(X_im.shape) \r\n",
        "\r\n",
        "from sklearn.model_selection import train_test_split\r\n",
        "\r\n",
        "X_im_train, X_im_test, y_train, y_test = train_test_split(X_im, y, test_size=0.2, random_state=42)"
      ],
      "execution_count": null,
      "outputs": [
        {
          "output_type": "stream",
          "text": [
            "(2494, 10, 32, 1)\n"
          ],
          "name": "stdout"
        }
      ]
    },
    {
      "cell_type": "code",
      "metadata": {
        "id": "T24J3aXUDYWR"
      },
      "source": [
        "import tensorflow as tf\r\n",
        "\r\n",
        "n_features = X_im.shape[1]\r\n",
        "time_steps = X_im.shape[2]\r\n",
        "\r\n",
        "model_cnn = tf.keras.models.Sequential()\r\n",
        "model_cnn.add(tf.keras.layers.Conv2D(32, (3, 3), activation='relu', kernel_initializer='he_uniform', padding='same', input_shape=(n_features, time_steps, 1))) # convolve with 32 kernels of size 3 x 3\r\n",
        "model_cnn.add(tf.keras.layers.Conv2D(32, (3, 3), activation='relu', kernel_initializer='he_uniform', padding='same')) # convolve with 32 kernels of size 3 x 3\r\n",
        "model_cnn.add(tf.keras.layers.MaxPooling2D((2, 2))) #Dowmsample by 2 in each direction- take max element of every 2\r\n",
        "model_cnn.add(tf.keras.layers.Conv2D(64, (3, 3), activation='relu', kernel_initializer='he_uniform', padding='same')) # convolve with 64 kernels of size 3 x 3\r\n",
        "model_cnn.add(tf.keras.layers.Conv2D(64, (3, 3), activation='relu', kernel_initializer='he_uniform', padding='same'))\r\n",
        "model_cnn.add(tf.keras.layers.MaxPooling2D((2, 2)))\r\n",
        "model_cnn.add(tf.keras.layers.Conv2D(128, (3, 3), activation='relu', kernel_initializer='he_uniform', padding='same')) # convolve with 128 kernels of size 3 x 3\r\n",
        "model_cnn.add(tf.keras.layers.Conv2D(128, (3, 3), activation='relu', kernel_initializer='he_uniform', padding='same'))\r\n",
        "model_cnn.add(tf.keras.layers.MaxPooling2D((2, 2)))\r\n",
        "model_cnn.add(tf.keras.layers.Flatten()) # Flatten output into a vector\r\n",
        "model_cnn.add(tf.keras.layers.Dense(128, activation='relu', kernel_initializer='he_uniform')) # Fully connected layer with 128 nodes\r\n",
        "model_cnn.add(tf.keras.layers.Dense(10, activation='softmax')) #output layer, size must equal the number of classes\r\n",
        "\r\n",
        "Adam=tf.keras.optimizers.Adam(lr=0.01, beta_1=0.9, beta_2=0.999, epsilon=None, decay=0.9, amsgrad=False)\r\n",
        "\r\n",
        "model_cnn.compile(loss='categorical_crossentropy',\r\n",
        "              optimizer=Adam,\r\n",
        "              metrics=['accuracy'])\r\n",
        "model_cnn.summary() #print out breakdown of model parameters\r\n",
        "history=model_cnn.fit(X_im_train, y_train, validation_split = 0.2, batch_size=200, epochs=500)"
      ],
      "execution_count": null,
      "outputs": []
    },
    {
      "cell_type": "code",
      "metadata": {
        "id": "0gWGYNkVDbJJ",
        "colab": {
          "base_uri": "https://localhost:8080/"
        },
        "outputId": "b13e0712-fd90-41ae-92ec-422855be4e70"
      },
      "source": [
        "model_cnn.evaluate(X_im_test, y_test)"
      ],
      "execution_count": null,
      "outputs": [
        {
          "output_type": "stream",
          "text": [
            "16/16 [==============================] - 0s 3ms/step - loss: 36.1944 - accuracy: 0.2084\n"
          ],
          "name": "stdout"
        },
        {
          "output_type": "execute_result",
          "data": {
            "text/plain": [
              "[36.19437026977539, 0.20841683447360992]"
            ]
          },
          "metadata": {
            "tags": []
          },
          "execution_count": 44
        }
      ]
    },
    {
      "cell_type": "code",
      "metadata": {
        "id": "xbLLdsadDeTP",
        "colab": {
          "base_uri": "https://localhost:8080/"
        },
        "outputId": "df3467d4-32d7-4ae3-c669-74d97cf2a9ba"
      },
      "source": [
        "X_im_rev = np.vstack(all_reverb_feat3)\r\n",
        "X_im_rev=X_im_rev.reshape(X_im_rev.shape[0],X_im_rev.shape[1],X_im_rev.shape[2], 1)\r\n",
        "print(all_reverb_feat3[0].shape)\r\n",
        "print(X_im_rev.shape)"
      ],
      "execution_count": null,
      "outputs": [
        {
          "output_type": "stream",
          "text": [
            "(1, 10, 32)\n",
            "(2552, 10, 32, 1)\n"
          ],
          "name": "stdout"
        }
      ]
    },
    {
      "cell_type": "code",
      "metadata": {
        "id": "CQL2ShzYDi7q",
        "colab": {
          "base_uri": "https://localhost:8080/"
        },
        "outputId": "4b808bbe-fda6-4373-cf71-97a65800950a"
      },
      "source": [
        "model_cnn.evaluate(X_im_rev, y_trial)"
      ],
      "execution_count": null,
      "outputs": [
        {
          "output_type": "stream",
          "text": [
            "80/80 [==============================] - 0s 3ms/step - loss: 11.4802 - accuracy: 0.1285\n"
          ],
          "name": "stdout"
        },
        {
          "output_type": "execute_result",
          "data": {
            "text/plain": [
              "[11.48015022277832, 0.12852664291858673]"
            ]
          },
          "metadata": {
            "tags": []
          },
          "execution_count": 46
        }
      ]
    },
    {
      "cell_type": "markdown",
      "metadata": {
        "id": "TE4KuQPmFSqd"
      },
      "source": [
        "## spectral contrast feature"
      ]
    },
    {
      "cell_type": "code",
      "metadata": {
        "id": "9JEoRCU4Dorc",
        "colab": {
          "base_uri": "https://localhost:8080/"
        },
        "outputId": "7956302f-5568-4d53-befb-ba96fd35148a"
      },
      "source": [
        "X_im = np.vstack(all_feat_list4)\r\n",
        "X_im=np.array(X_im.reshape(X_im.shape[0],X_im.shape[1],X_im.shape[2], 1))\r\n",
        "print(X_im.shape) \r\n",
        "\r\n",
        "from sklearn.model_selection import train_test_split\r\n",
        "\r\n",
        "X_im_train, X_im_test, y_train, y_test = train_test_split(X_im, y, test_size=0.2, random_state=42)"
      ],
      "execution_count": null,
      "outputs": [
        {
          "output_type": "stream",
          "text": [
            "(2494, 8, 32, 1)\n"
          ],
          "name": "stdout"
        }
      ]
    },
    {
      "cell_type": "code",
      "metadata": {
        "id": "NVqyjIfuDplc"
      },
      "source": [
        "import tensorflow as tf\r\n",
        "\r\n",
        "n_features = X_im.shape[1]\r\n",
        "time_steps = X_im.shape[2]\r\n",
        "\r\n",
        "model_cnn = tf.keras.models.Sequential()\r\n",
        "model_cnn.add(tf.keras.layers.Conv2D(32, (3, 3), activation='relu', kernel_initializer='he_uniform', padding='same', input_shape=(n_features, time_steps, 1))) # convolve with 32 kernels of size 3 x 3\r\n",
        "model_cnn.add(tf.keras.layers.Conv2D(32, (3, 3), activation='relu', kernel_initializer='he_uniform', padding='same')) # convolve with 32 kernels of size 3 x 3\r\n",
        "model_cnn.add(tf.keras.layers.MaxPooling2D((2, 2))) #Dowmsample by 2 in each direction- take max element of every 2\r\n",
        "model_cnn.add(tf.keras.layers.Conv2D(64, (3, 3), activation='relu', kernel_initializer='he_uniform', padding='same')) # convolve with 64 kernels of size 3 x 3\r\n",
        "model_cnn.add(tf.keras.layers.Conv2D(64, (3, 3), activation='relu', kernel_initializer='he_uniform', padding='same'))\r\n",
        "model_cnn.add(tf.keras.layers.MaxPooling2D((2, 2)))\r\n",
        "model_cnn.add(tf.keras.layers.Conv2D(128, (3, 3), activation='relu', kernel_initializer='he_uniform', padding='same')) # convolve with 128 kernels of size 3 x 3\r\n",
        "model_cnn.add(tf.keras.layers.Conv2D(128, (3, 3), activation='relu', kernel_initializer='he_uniform', padding='same'))\r\n",
        "model_cnn.add(tf.keras.layers.MaxPooling2D((2, 2)))\r\n",
        "model_cnn.add(tf.keras.layers.Flatten()) # Flatten output into a vector\r\n",
        "model_cnn.add(tf.keras.layers.Dense(128, activation='relu', kernel_initializer='he_uniform')) # Fully connected layer with 128 nodes\r\n",
        "model_cnn.add(tf.keras.layers.Dense(10, activation='softmax')) #output layer, size must equal the number of classes\r\n",
        "\r\n",
        "Adam=tf.keras.optimizers.Adam(lr=0.01, beta_1=0.9, beta_2=0.999, epsilon=None, decay=0.9, amsgrad=False)\r\n",
        "\r\n",
        "model_cnn.compile(loss='categorical_crossentropy',\r\n",
        "              optimizer=Adam,\r\n",
        "              metrics=['accuracy'])\r\n",
        "model_cnn.summary() #print out breakdown of model parameters\r\n",
        "history=model_cnn.fit(X_im_train, y_train, validation_split = 0.2, batch_size=200, epochs=500)"
      ],
      "execution_count": null,
      "outputs": []
    },
    {
      "cell_type": "code",
      "metadata": {
        "id": "EsrbbROIDvhg",
        "colab": {
          "base_uri": "https://localhost:8080/"
        },
        "outputId": "aa6b4e36-1f07-4883-edab-c3f058b15b5c"
      },
      "source": [
        "model_cnn.evaluate(X_im_test, y_test)"
      ],
      "execution_count": null,
      "outputs": [
        {
          "output_type": "stream",
          "text": [
            "16/16 [==============================] - 0s 3ms/step - loss: 3.0586 - accuracy: 0.2946\n"
          ],
          "name": "stdout"
        },
        {
          "output_type": "execute_result",
          "data": {
            "text/plain": [
              "[3.0586376190185547, 0.29458919167518616]"
            ]
          },
          "metadata": {
            "tags": []
          },
          "execution_count": 54
        }
      ]
    },
    {
      "cell_type": "code",
      "metadata": {
        "id": "FB43cHBZDxsh",
        "colab": {
          "base_uri": "https://localhost:8080/"
        },
        "outputId": "7143992f-18a6-4270-e44e-89acdf95b3b1"
      },
      "source": [
        "X_im_rev = np.vstack(all_reverb_feat4)\r\n",
        "X_im_rev=X_im_rev.reshape(X_im_rev.shape[0],X_im_rev.shape[1],X_im_rev.shape[2], 1)\r\n",
        "print(all_reverb_feat4[0].shape)\r\n",
        "print(X_im_rev.shape)"
      ],
      "execution_count": null,
      "outputs": [
        {
          "output_type": "stream",
          "text": [
            "(1, 8, 32)\n",
            "(2552, 8, 32, 1)\n"
          ],
          "name": "stdout"
        }
      ]
    },
    {
      "cell_type": "code",
      "metadata": {
        "id": "FWyTCiq_D0Yh",
        "colab": {
          "base_uri": "https://localhost:8080/"
        },
        "outputId": "41a47ec5-a70f-4c0b-b9d4-3b6585146692"
      },
      "source": [
        "model_cnn.evaluate(X_im_rev, y_trial)"
      ],
      "execution_count": null,
      "outputs": [
        {
          "output_type": "stream",
          "text": [
            "80/80 [==============================] - 0s 3ms/step - loss: 2.5534 - accuracy: 0.1846\n"
          ],
          "name": "stdout"
        },
        {
          "output_type": "execute_result",
          "data": {
            "text/plain": [
              "[2.5534188747406006, 0.1845611333847046]"
            ]
          },
          "metadata": {
            "tags": []
          },
          "execution_count": 56
        }
      ]
    },
    {
      "cell_type": "markdown",
      "metadata": {
        "id": "utn0ynnuFgUo"
      },
      "source": [
        "## Spectral centroid feature"
      ]
    },
    {
      "cell_type": "code",
      "metadata": {
        "id": "4HOHuS6dD-M6",
        "colab": {
          "base_uri": "https://localhost:8080/"
        },
        "outputId": "b1cc0331-140b-4a7c-e043-004b1a2a7184"
      },
      "source": [
        "X_im = np.vstack(all_feat_list5)\r\n",
        "X_im=np.array(X_im.reshape(X_im.shape[0],X_im.shape[1],X_im.shape[2], 1))\r\n",
        "print(X_im.shape) \r\n",
        "\r\n",
        "from sklearn.model_selection import train_test_split\r\n",
        "\r\n",
        "X_im_train, X_im_test, y_train, y_test = train_test_split(X_im, y, test_size=0.2, random_state=42)"
      ],
      "execution_count": null,
      "outputs": [
        {
          "output_type": "stream",
          "text": [
            "(2494, 56, 32, 1)\n"
          ],
          "name": "stdout"
        }
      ]
    },
    {
      "cell_type": "code",
      "metadata": {
        "id": "AlmGVzZiECfh"
      },
      "source": [
        "import tensorflow as tf\r\n",
        "\r\n",
        "n_features = X_im.shape[1]\r\n",
        "time_steps = X_im.shape[2]\r\n",
        "\r\n",
        "model_cnn = tf.keras.models.Sequential()\r\n",
        "model_cnn.add(tf.keras.layers.Conv2D(32, (3, 3), activation='relu', kernel_initializer='he_uniform', padding='same', input_shape=(n_features, time_steps, 1))) # convolve with 32 kernels of size 3 x 3\r\n",
        "model_cnn.add(tf.keras.layers.Conv2D(32, (3, 3), activation='relu', kernel_initializer='he_uniform', padding='same')) # convolve with 32 kernels of size 3 x 3\r\n",
        "model_cnn.add(tf.keras.layers.MaxPooling2D((2, 2))) #Dowmsample by 2 in each direction- take max element of every 2\r\n",
        "model_cnn.add(tf.keras.layers.Conv2D(64, (3, 3), activation='relu', kernel_initializer='he_uniform', padding='same')) # convolve with 64 kernels of size 3 x 3\r\n",
        "model_cnn.add(tf.keras.layers.Conv2D(64, (3, 3), activation='relu', kernel_initializer='he_uniform', padding='same'))\r\n",
        "model_cnn.add(tf.keras.layers.MaxPooling2D((2, 2)))\r\n",
        "model_cnn.add(tf.keras.layers.Conv2D(128, (3, 3), activation='relu', kernel_initializer='he_uniform', padding='same')) # convolve with 128 kernels of size 3 x 3\r\n",
        "model_cnn.add(tf.keras.layers.Conv2D(128, (3, 3), activation='relu', kernel_initializer='he_uniform', padding='same'))\r\n",
        "model_cnn.add(tf.keras.layers.MaxPooling2D((2, 2)))\r\n",
        "model_cnn.add(tf.keras.layers.Flatten()) # Flatten output into a vector\r\n",
        "model_cnn.add(tf.keras.layers.Dense(128, activation='relu', kernel_initializer='he_uniform')) # Fully connected layer with 128 nodes\r\n",
        "model_cnn.add(tf.keras.layers.Dense(10, activation='softmax')) #output layer, size must equal the number of classes\r\n",
        "\r\n",
        "Adam=tf.keras.optimizers.Adam(lr=0.01, beta_1=0.9, beta_2=0.999, epsilon=None, decay=0.9, amsgrad=False)\r\n",
        "\r\n",
        "model_cnn.compile(loss='categorical_crossentropy',\r\n",
        "              optimizer=Adam,\r\n",
        "              metrics=['accuracy'])\r\n",
        "model_cnn.summary() #print out breakdown of model parameters\r\n",
        "history=model_cnn.fit(X_im_train, y_train, validation_split = 0.2, batch_size=200, epochs=500)"
      ],
      "execution_count": null,
      "outputs": []
    },
    {
      "cell_type": "code",
      "metadata": {
        "id": "OpgKMFxrEE-h",
        "colab": {
          "base_uri": "https://localhost:8080/"
        },
        "outputId": "a0d404b1-f47c-455b-bc68-db7c5011c716"
      },
      "source": [
        "model_cnn.evaluate(X_im_test, y_test)"
      ],
      "execution_count": null,
      "outputs": [
        {
          "output_type": "stream",
          "text": [
            "16/16 [==============================] - 0s 8ms/step - loss: 1.9649 - accuracy: 0.2685\n"
          ],
          "name": "stdout"
        },
        {
          "output_type": "execute_result",
          "data": {
            "text/plain": [
              "[1.9648633003234863, 0.26853707432746887]"
            ]
          },
          "metadata": {
            "tags": []
          },
          "execution_count": 59
        }
      ]
    },
    {
      "cell_type": "code",
      "metadata": {
        "id": "GcBBFXBTEIQv",
        "colab": {
          "base_uri": "https://localhost:8080/"
        },
        "outputId": "80372ac0-0757-41d5-cbd2-b471656d6fe1"
      },
      "source": [
        "X_im_rev = np.vstack(all_reverb_feat5)\r\n",
        "X_im_rev=X_im_rev.reshape(X_im_rev.shape[0],X_im_rev.shape[1],X_im_rev.shape[2], 1)\r\n",
        "print(all_reverb_feat5[0].shape)\r\n",
        "print(X_im_rev.shape)"
      ],
      "execution_count": null,
      "outputs": [
        {
          "output_type": "stream",
          "text": [
            "(1, 56, 32)\n",
            "(2552, 56, 32, 1)\n"
          ],
          "name": "stdout"
        }
      ]
    },
    {
      "cell_type": "code",
      "metadata": {
        "id": "IUpx6PYzELPI",
        "colab": {
          "base_uri": "https://localhost:8080/"
        },
        "outputId": "5c92edff-3e1f-4a4f-9801-04a4aafe3e40"
      },
      "source": [
        "model_cnn.evaluate(X_im_rev, y_trial)"
      ],
      "execution_count": null,
      "outputs": [
        {
          "output_type": "stream",
          "text": [
            "80/80 [==============================] - 0s 5ms/step - loss: 2.1947 - accuracy: 0.2218\n"
          ],
          "name": "stdout"
        },
        {
          "output_type": "execute_result",
          "data": {
            "text/plain": [
              "[2.194725275039673, 0.22178682684898376]"
            ]
          },
          "metadata": {
            "tags": []
          },
          "execution_count": 61
        }
      ]
    },
    {
      "cell_type": "markdown",
      "metadata": {
        "id": "zOh9Mp2aUoTz"
      },
      "source": [
        "## Mel Spectrogram - Window Length = 1024"
      ]
    },
    {
      "cell_type": "code",
      "metadata": {
        "id": "hpHIalmDVFlf",
        "colab": {
          "base_uri": "https://localhost:8080/"
        },
        "outputId": "ba407c2a-c816-43bd-a0a3-44e9e6f89767"
      },
      "source": [
        "X_im = np.vstack(all_feat_list6)\r\n",
        "X_im=np.array(X_im.reshape(X_im.shape[0],X_im.shape[1],X_im.shape[2], 1))\r\n",
        "print(X_im.shape) \r\n",
        "\r\n",
        "from sklearn.model_selection import train_test_split\r\n",
        "\r\n",
        "X_im_train, X_im_test, y_train, y_test = train_test_split(X_im, y, test_size=0.2, random_state=42)"
      ],
      "execution_count": null,
      "outputs": [
        {
          "output_type": "stream",
          "text": [
            "(2494, 128, 32, 1)\n"
          ],
          "name": "stdout"
        }
      ]
    },
    {
      "cell_type": "code",
      "metadata": {
        "id": "LYINQEBNVolk"
      },
      "source": [
        "import tensorflow as tf\r\n",
        "\r\n",
        "n_features = X_im.shape[1]\r\n",
        "time_steps = X_im.shape[2]\r\n",
        "\r\n",
        "model_cnn = tf.keras.models.Sequential()\r\n",
        "model_cnn.add(tf.keras.layers.Conv2D(32, (3, 3), activation='relu', kernel_initializer='he_uniform', padding='same', input_shape=(n_features, time_steps, 1))) # convolve with 32 kernels of size 3 x 3\r\n",
        "model_cnn.add(tf.keras.layers.Conv2D(32, (3, 3), activation='relu', kernel_initializer='he_uniform', padding='same')) # convolve with 32 kernels of size 3 x 3\r\n",
        "model_cnn.add(tf.keras.layers.MaxPooling2D((2, 2))) #Dowmsample by 2 in each direction- take max element of every 2\r\n",
        "model_cnn.add(tf.keras.layers.Conv2D(64, (3, 3), activation='relu', kernel_initializer='he_uniform', padding='same')) # convolve with 64 kernels of size 3 x 3\r\n",
        "model_cnn.add(tf.keras.layers.Conv2D(64, (3, 3), activation='relu', kernel_initializer='he_uniform', padding='same'))\r\n",
        "model_cnn.add(tf.keras.layers.MaxPooling2D((2, 2)))\r\n",
        "model_cnn.add(tf.keras.layers.Conv2D(128, (3, 3), activation='relu', kernel_initializer='he_uniform', padding='same')) # convolve with 128 kernels of size 3 x 3\r\n",
        "model_cnn.add(tf.keras.layers.Conv2D(128, (3, 3), activation='relu', kernel_initializer='he_uniform', padding='same'))\r\n",
        "model_cnn.add(tf.keras.layers.MaxPooling2D((2, 2)))\r\n",
        "model_cnn.add(tf.keras.layers.Flatten()) # Flatten output into a vector\r\n",
        "model_cnn.add(tf.keras.layers.Dense(128, activation='relu', kernel_initializer='he_uniform')) # Fully connected layer with 128 nodes\r\n",
        "model_cnn.add(tf.keras.layers.Dense(10, activation='softmax')) #output layer, size must equal the number of classes\r\n",
        "\r\n",
        "Adam=tf.keras.optimizers.Adam(lr=0.01, beta_1=0.9, beta_2=0.999, epsilon=None, decay=0.9, amsgrad=False)\r\n",
        "\r\n",
        "model_cnn.compile(loss='categorical_crossentropy',\r\n",
        "              optimizer=Adam,\r\n",
        "              metrics=['accuracy'])\r\n",
        "model_cnn.summary() #print out breakdown of model parameters\r\n",
        "history=model_cnn.fit(X_im_train, y_train, validation_split = 0.2, batch_size=200, epochs=500)"
      ],
      "execution_count": null,
      "outputs": []
    },
    {
      "cell_type": "code",
      "metadata": {
        "id": "DGEhjYHsV8-b",
        "colab": {
          "base_uri": "https://localhost:8080/"
        },
        "outputId": "1ea2af62-c74a-4f4c-a498-ac95a7ae0e08"
      },
      "source": [
        "model_cnn.evaluate(X_im_test, y_test)"
      ],
      "execution_count": null,
      "outputs": [
        {
          "output_type": "stream",
          "text": [
            "16/16 [==============================] - 0s 5ms/step - loss: 26406432.0000 - accuracy: 0.2705\n"
          ],
          "name": "stdout"
        },
        {
          "output_type": "execute_result",
          "data": {
            "text/plain": [
              "[26406432.0, 0.27054107189178467]"
            ]
          },
          "metadata": {
            "tags": []
          },
          "execution_count": 64
        }
      ]
    },
    {
      "cell_type": "code",
      "metadata": {
        "id": "qtzf4zp0WOBs",
        "colab": {
          "base_uri": "https://localhost:8080/"
        },
        "outputId": "389ae433-cf57-47d3-d4a1-032ec7fa856f"
      },
      "source": [
        "X_im_rev = np.vstack(all_reverb_feat6)\r\n",
        "X_im_rev=X_im_rev.reshape(X_im_rev.shape[0],X_im_rev.shape[1],X_im_rev.shape[2], 1)\r\n",
        "print(all_reverb_feat6[0].shape)\r\n",
        "print(X_im_rev.shape)"
      ],
      "execution_count": null,
      "outputs": [
        {
          "output_type": "stream",
          "text": [
            "(1, 128, 32)\n",
            "(2552, 128, 32, 1)\n"
          ],
          "name": "stdout"
        }
      ]
    },
    {
      "cell_type": "code",
      "metadata": {
        "id": "xj1zw47HXGld",
        "colab": {
          "base_uri": "https://localhost:8080/"
        },
        "outputId": "fa6eebd6-beef-43af-9b2f-c9d020d1c83a"
      },
      "source": [
        "model_cnn.evaluate(X_im_rev, y_trial)"
      ],
      "execution_count": null,
      "outputs": [
        {
          "output_type": "stream",
          "text": [
            "80/80 [==============================] - 0s 5ms/step - loss: 1932655.3750 - accuracy: 0.2312\n"
          ],
          "name": "stdout"
        },
        {
          "output_type": "execute_result",
          "data": {
            "text/plain": [
              "[1932655.375, 0.2311912178993225]"
            ]
          },
          "metadata": {
            "tags": []
          },
          "execution_count": 66
        }
      ]
    },
    {
      "cell_type": "markdown",
      "metadata": {
        "id": "SreSdMlXUqJD"
      },
      "source": [
        "## Mel Spectrogram - Window Length = 1024, Hop Length = 1024"
      ]
    },
    {
      "cell_type": "code",
      "metadata": {
        "id": "DYbKKex0VGfo",
        "colab": {
          "base_uri": "https://localhost:8080/"
        },
        "outputId": "d949102e-1135-4e92-b073-19e9e5f95d36"
      },
      "source": [
        "X_im = np.vstack(all_feat_list7)\r\n",
        "X_im=np.array(X_im.reshape(X_im.shape[0],X_im.shape[1],X_im.shape[2], 1))\r\n",
        "print(X_im.shape) \r\n",
        "\r\n",
        "from sklearn.model_selection import train_test_split\r\n",
        "\r\n",
        "X_im_train, X_im_test, y_train, y_test = train_test_split(X_im, y, test_size=0.2, random_state=42)"
      ],
      "execution_count": null,
      "outputs": [
        {
          "output_type": "stream",
          "text": [
            "(2494, 128, 16, 1)\n"
          ],
          "name": "stdout"
        }
      ]
    },
    {
      "cell_type": "code",
      "metadata": {
        "id": "hVe6YRwFVqaS"
      },
      "source": [
        "import tensorflow as tf\r\n",
        "\r\n",
        "n_features = X_im.shape[1]\r\n",
        "time_steps = X_im.shape[2]\r\n",
        "\r\n",
        "model_cnn = tf.keras.models.Sequential()\r\n",
        "model_cnn.add(tf.keras.layers.Conv2D(32, (3, 3), activation='relu', kernel_initializer='he_uniform', padding='same', input_shape=(n_features, time_steps, 1))) # convolve with 32 kernels of size 3 x 3\r\n",
        "model_cnn.add(tf.keras.layers.Conv2D(32, (3, 3), activation='relu', kernel_initializer='he_uniform', padding='same')) # convolve with 32 kernels of size 3 x 3\r\n",
        "model_cnn.add(tf.keras.layers.MaxPooling2D((2, 2))) #Dowmsample by 2 in each direction- take max element of every 2\r\n",
        "model_cnn.add(tf.keras.layers.Conv2D(64, (3, 3), activation='relu', kernel_initializer='he_uniform', padding='same')) # convolve with 64 kernels of size 3 x 3\r\n",
        "model_cnn.add(tf.keras.layers.Conv2D(64, (3, 3), activation='relu', kernel_initializer='he_uniform', padding='same'))\r\n",
        "model_cnn.add(tf.keras.layers.MaxPooling2D((2, 2)))\r\n",
        "model_cnn.add(tf.keras.layers.Conv2D(128, (3, 3), activation='relu', kernel_initializer='he_uniform', padding='same')) # convolve with 128 kernels of size 3 x 3\r\n",
        "model_cnn.add(tf.keras.layers.Conv2D(128, (3, 3), activation='relu', kernel_initializer='he_uniform', padding='same'))\r\n",
        "model_cnn.add(tf.keras.layers.MaxPooling2D((2, 2)))\r\n",
        "model_cnn.add(tf.keras.layers.Flatten()) # Flatten output into a vector\r\n",
        "model_cnn.add(tf.keras.layers.Dense(128, activation='relu', kernel_initializer='he_uniform')) # Fully connected layer with 128 nodes\r\n",
        "model_cnn.add(tf.keras.layers.Dense(10, activation='softmax')) #output layer, size must equal the number of classes\r\n",
        "\r\n",
        "Adam=tf.keras.optimizers.Adam(lr=0.01, beta_1=0.9, beta_2=0.999, epsilon=None, decay=0.9, amsgrad=False)\r\n",
        "\r\n",
        "model_cnn.compile(loss='categorical_crossentropy',\r\n",
        "              optimizer=Adam,\r\n",
        "              metrics=['accuracy'])\r\n",
        "model_cnn.summary() #print out breakdown of model parameters\r\n",
        "history=model_cnn.fit(X_im_train, y_train, validation_split = 0.2, batch_size=200, epochs=500)"
      ],
      "execution_count": null,
      "outputs": []
    },
    {
      "cell_type": "code",
      "metadata": {
        "id": "WY-H_TaEV-UF",
        "colab": {
          "base_uri": "https://localhost:8080/"
        },
        "outputId": "4e1700fa-8e11-440e-eb0a-e3c694365055"
      },
      "source": [
        "model_cnn.evaluate(X_im_test, y_test)"
      ],
      "execution_count": null,
      "outputs": [
        {
          "output_type": "stream",
          "text": [
            "16/16 [==============================] - 0s 10ms/step - loss: 44048712.0000 - accuracy: 0.1443\n"
          ],
          "name": "stdout"
        },
        {
          "output_type": "execute_result",
          "data": {
            "text/plain": [
              "[44048712.0, 0.1442885845899582]"
            ]
          },
          "metadata": {
            "tags": []
          },
          "execution_count": 69
        }
      ]
    },
    {
      "cell_type": "code",
      "metadata": {
        "id": "l8-92EeoWVH-",
        "colab": {
          "base_uri": "https://localhost:8080/"
        },
        "outputId": "c1cec800-7706-4dca-9478-db75d5b1d39c"
      },
      "source": [
        "X_im_rev = np.vstack(all_reverb_feat7)\r\n",
        "X_im_rev=X_im_rev.reshape(X_im_rev.shape[0],X_im_rev.shape[1],X_im_rev.shape[2], 1)\r\n",
        "print(all_reverb_feat7[0].shape)\r\n",
        "print(X_im_rev.shape)"
      ],
      "execution_count": null,
      "outputs": [
        {
          "output_type": "stream",
          "text": [
            "(1, 128, 16)\n",
            "(2552, 128, 16, 1)\n"
          ],
          "name": "stdout"
        }
      ]
    },
    {
      "cell_type": "code",
      "metadata": {
        "id": "4VCjBkA9XHgs",
        "colab": {
          "base_uri": "https://localhost:8080/"
        },
        "outputId": "28a3d3b4-2214-402a-b85b-b12b9ce37fed"
      },
      "source": [
        "model_cnn.evaluate(X_im_rev, y_trial)"
      ],
      "execution_count": null,
      "outputs": [
        {
          "output_type": "stream",
          "text": [
            "80/80 [==============================] - 0s 6ms/step - loss: 5724723.5000 - accuracy: 0.1552\n"
          ],
          "name": "stdout"
        },
        {
          "output_type": "execute_result",
          "data": {
            "text/plain": [
              "[5724723.5, 0.1551724076271057]"
            ]
          },
          "metadata": {
            "tags": []
          },
          "execution_count": 71
        }
      ]
    },
    {
      "cell_type": "markdown",
      "metadata": {
        "id": "LTWt-nUBUwB6"
      },
      "source": [
        "## Mel Spectrogram - Window Length = 512, Hop Length = 1024"
      ]
    },
    {
      "cell_type": "code",
      "metadata": {
        "id": "dtC15Fo4VH0E",
        "colab": {
          "base_uri": "https://localhost:8080/"
        },
        "outputId": "36991701-7b26-44ce-c0fe-077c22594c5d"
      },
      "source": [
        "X_im = np.vstack(all_feat_list8)\r\n",
        "X_im=np.array(X_im.reshape(X_im.shape[0],X_im.shape[1],X_im.shape[2], 1))\r\n",
        "print(X_im.shape) \r\n",
        "\r\n",
        "from sklearn.model_selection import train_test_split\r\n",
        "\r\n",
        "X_im_train, X_im_test, y_train, y_test = train_test_split(X_im, y, test_size=0.2, random_state=42)"
      ],
      "execution_count": null,
      "outputs": [
        {
          "output_type": "stream",
          "text": [
            "(2494, 128, 16, 1)\n"
          ],
          "name": "stdout"
        }
      ]
    },
    {
      "cell_type": "code",
      "metadata": {
        "id": "KuAaBYC0Vryy"
      },
      "source": [
        "import tensorflow as tf\r\n",
        "\r\n",
        "n_features = X_im.shape[1]\r\n",
        "time_steps = X_im.shape[2]\r\n",
        "\r\n",
        "model_cnn = tf.keras.models.Sequential()\r\n",
        "model_cnn.add(tf.keras.layers.Conv2D(32, (3, 3), activation='relu', kernel_initializer='he_uniform', padding='same', input_shape=(n_features, time_steps, 1))) # convolve with 32 kernels of size 3 x 3\r\n",
        "model_cnn.add(tf.keras.layers.Conv2D(32, (3, 3), activation='relu', kernel_initializer='he_uniform', padding='same')) # convolve with 32 kernels of size 3 x 3\r\n",
        "model_cnn.add(tf.keras.layers.MaxPooling2D((2, 2))) #Dowmsample by 2 in each direction- take max element of every 2\r\n",
        "model_cnn.add(tf.keras.layers.Conv2D(64, (3, 3), activation='relu', kernel_initializer='he_uniform', padding='same')) # convolve with 64 kernels of size 3 x 3\r\n",
        "model_cnn.add(tf.keras.layers.Conv2D(64, (3, 3), activation='relu', kernel_initializer='he_uniform', padding='same'))\r\n",
        "model_cnn.add(tf.keras.layers.MaxPooling2D((2, 2)))\r\n",
        "model_cnn.add(tf.keras.layers.Conv2D(128, (3, 3), activation='relu', kernel_initializer='he_uniform', padding='same')) # convolve with 128 kernels of size 3 x 3\r\n",
        "model_cnn.add(tf.keras.layers.Conv2D(128, (3, 3), activation='relu', kernel_initializer='he_uniform', padding='same'))\r\n",
        "model_cnn.add(tf.keras.layers.MaxPooling2D((2, 2)))\r\n",
        "model_cnn.add(tf.keras.layers.Flatten()) # Flatten output into a vector\r\n",
        "model_cnn.add(tf.keras.layers.Dense(128, activation='relu', kernel_initializer='he_uniform')) # Fully connected layer with 128 nodes\r\n",
        "model_cnn.add(tf.keras.layers.Dense(10, activation='softmax')) #output layer, size must equal the number of classes\r\n",
        "\r\n",
        "Adam=tf.keras.optimizers.Adam(lr=0.01, beta_1=0.9, beta_2=0.999, epsilon=None, decay=0.9, amsgrad=False)\r\n",
        "\r\n",
        "model_cnn.compile(loss='categorical_crossentropy',\r\n",
        "              optimizer=Adam,\r\n",
        "              metrics=['accuracy'])\r\n",
        "model_cnn.summary() #print out breakdown of model parameters\r\n",
        "history=model_cnn.fit(X_im_train, y_train, validation_split = 0.2, batch_size=200, epochs=500)"
      ],
      "execution_count": null,
      "outputs": []
    },
    {
      "cell_type": "code",
      "metadata": {
        "id": "qud4ns_XWAVJ",
        "colab": {
          "base_uri": "https://localhost:8080/"
        },
        "outputId": "e1afa22b-0163-4929-a9c0-e6ad245d97d7"
      },
      "source": [
        "model_cnn.evaluate(X_im_test, y_test)"
      ],
      "execution_count": null,
      "outputs": [
        {
          "output_type": "stream",
          "text": [
            "16/16 [==============================] - 0s 4ms/step - loss: 18375018.0000 - accuracy: 0.2044\n"
          ],
          "name": "stdout"
        },
        {
          "output_type": "execute_result",
          "data": {
            "text/plain": [
              "[18375018.0, 0.20440882444381714]"
            ]
          },
          "metadata": {
            "tags": []
          },
          "execution_count": 74
        }
      ]
    },
    {
      "cell_type": "code",
      "metadata": {
        "id": "C7LFY6OiWXFC",
        "colab": {
          "base_uri": "https://localhost:8080/"
        },
        "outputId": "f86ab0a7-3b7e-4f73-b437-a36536f62616"
      },
      "source": [
        "X_im_rev = np.vstack(all_reverb_feat8)\r\n",
        "X_im_rev=X_im_rev.reshape(X_im_rev.shape[0],X_im_rev.shape[1],X_im_rev.shape[2], 1)\r\n",
        "print(all_reverb_feat8[0].shape)\r\n",
        "print(X_im_rev.shape)"
      ],
      "execution_count": null,
      "outputs": [
        {
          "output_type": "stream",
          "text": [
            "(1, 128, 16)\n",
            "(2552, 128, 16, 1)\n"
          ],
          "name": "stdout"
        }
      ]
    },
    {
      "cell_type": "code",
      "metadata": {
        "id": "H2txtrbzXIEi",
        "colab": {
          "base_uri": "https://localhost:8080/"
        },
        "outputId": "86279d0e-2435-4cc4-cfa7-9a540de9804c"
      },
      "source": [
        "model_cnn.evaluate(X_im_rev, y_trial)"
      ],
      "execution_count": null,
      "outputs": [
        {
          "output_type": "stream",
          "text": [
            "80/80 [==============================] - 0s 4ms/step - loss: 2257649.5000 - accuracy: 0.1865\n"
          ],
          "name": "stdout"
        },
        {
          "output_type": "execute_result",
          "data": {
            "text/plain": [
              "[2257649.5, 0.18652038276195526]"
            ]
          },
          "metadata": {
            "tags": []
          },
          "execution_count": 76
        }
      ]
    },
    {
      "cell_type": "markdown",
      "metadata": {
        "id": "ftLeq3vmUy1g"
      },
      "source": [
        "## MFCC + Spectral Centroid"
      ]
    },
    {
      "cell_type": "code",
      "metadata": {
        "id": "cHOe-bg8VJIP",
        "colab": {
          "base_uri": "https://localhost:8080/"
        },
        "outputId": "59c0da7c-cbbd-46dd-d4eb-409ae63addf9"
      },
      "source": [
        "X_im = np.vstack(all_feat_list9)\r\n",
        "X_im=np.array(X_im.reshape(X_im.shape[0],X_im.shape[1],X_im.shape[2], 1))\r\n",
        "print(X_im.shape) \r\n",
        "\r\n",
        "from sklearn.model_selection import train_test_split\r\n",
        "\r\n",
        "X_im_train, X_im_test, y_train, y_test = train_test_split(X_im, y, test_size=0.2, random_state=42)"
      ],
      "execution_count": null,
      "outputs": [
        {
          "output_type": "stream",
          "text": [
            "(2494, 28, 32, 1)\n"
          ],
          "name": "stdout"
        }
      ]
    },
    {
      "cell_type": "code",
      "metadata": {
        "id": "zrmpK5g0VtKQ"
      },
      "source": [
        "import tensorflow as tf\r\n",
        "\r\n",
        "n_features = X_im.shape[1]\r\n",
        "time_steps = X_im.shape[2]\r\n",
        "\r\n",
        "model_cnn = tf.keras.models.Sequential()\r\n",
        "model_cnn.add(tf.keras.layers.Conv2D(32, (3, 3), activation='relu', kernel_initializer='he_uniform', padding='same', input_shape=(n_features, time_steps, 1))) # convolve with 32 kernels of size 3 x 3\r\n",
        "model_cnn.add(tf.keras.layers.Conv2D(32, (3, 3), activation='relu', kernel_initializer='he_uniform', padding='same')) # convolve with 32 kernels of size 3 x 3\r\n",
        "model_cnn.add(tf.keras.layers.MaxPooling2D((2, 2))) #Dowmsample by 2 in each direction- take max element of every 2\r\n",
        "model_cnn.add(tf.keras.layers.Conv2D(64, (3, 3), activation='relu', kernel_initializer='he_uniform', padding='same')) # convolve with 64 kernels of size 3 x 3\r\n",
        "model_cnn.add(tf.keras.layers.Conv2D(64, (3, 3), activation='relu', kernel_initializer='he_uniform', padding='same'))\r\n",
        "model_cnn.add(tf.keras.layers.MaxPooling2D((2, 2)))\r\n",
        "model_cnn.add(tf.keras.layers.Conv2D(128, (3, 3), activation='relu', kernel_initializer='he_uniform', padding='same')) # convolve with 128 kernels of size 3 x 3\r\n",
        "model_cnn.add(tf.keras.layers.Conv2D(128, (3, 3), activation='relu', kernel_initializer='he_uniform', padding='same'))\r\n",
        "model_cnn.add(tf.keras.layers.MaxPooling2D((2, 2)))\r\n",
        "model_cnn.add(tf.keras.layers.Flatten()) # Flatten output into a vector\r\n",
        "model_cnn.add(tf.keras.layers.Dense(128, activation='relu', kernel_initializer='he_uniform')) # Fully connected layer with 128 nodes\r\n",
        "model_cnn.add(tf.keras.layers.Dense(10, activation='softmax')) #output layer, size must equal the number of classes\r\n",
        "\r\n",
        "Adam=tf.keras.optimizers.Adam(lr=0.01, beta_1=0.9, beta_2=0.999, epsilon=None, decay=0.9, amsgrad=False)\r\n",
        "\r\n",
        "model_cnn.compile(loss='categorical_crossentropy',\r\n",
        "              optimizer=Adam,\r\n",
        "              metrics=['accuracy'])\r\n",
        "model_cnn.summary() #print out breakdown of model parameters\r\n",
        "history=model_cnn.fit(X_im_train, y_train, validation_split = 0.2, batch_size=200, epochs=500)"
      ],
      "execution_count": null,
      "outputs": []
    },
    {
      "cell_type": "code",
      "metadata": {
        "id": "Qit-MqDuWBR5",
        "colab": {
          "base_uri": "https://localhost:8080/"
        },
        "outputId": "c83e7b93-b7e6-43ea-90a9-94a349906dd1"
      },
      "source": [
        "model_cnn.evaluate(X_im_test, y_test)"
      ],
      "execution_count": null,
      "outputs": [
        {
          "output_type": "stream",
          "text": [
            "16/16 [==============================] - 0s 7ms/step - loss: 2.1821 - accuracy: 0.3667\n"
          ],
          "name": "stdout"
        },
        {
          "output_type": "execute_result",
          "data": {
            "text/plain": [
              "[2.182142734527588, 0.36673346161842346]"
            ]
          },
          "metadata": {
            "tags": []
          },
          "execution_count": 79
        }
      ]
    },
    {
      "cell_type": "code",
      "metadata": {
        "id": "Z2nqcbCWWZNg",
        "colab": {
          "base_uri": "https://localhost:8080/"
        },
        "outputId": "31eda84e-16c7-48e9-9001-8a67ca9413f3"
      },
      "source": [
        "X_im_rev = np.vstack(all_reverb_feat9)\r\n",
        "X_im_rev=X_im_rev.reshape(X_im_rev.shape[0],X_im_rev.shape[1],X_im_rev.shape[2], 1)\r\n",
        "print(all_reverb_feat9[0].shape)\r\n",
        "print(X_im_rev.shape)"
      ],
      "execution_count": null,
      "outputs": [
        {
          "output_type": "stream",
          "text": [
            "(1, 28, 32)\n",
            "(2552, 28, 32, 1)\n"
          ],
          "name": "stdout"
        }
      ]
    },
    {
      "cell_type": "code",
      "metadata": {
        "id": "3LRBI4KWXJF7",
        "colab": {
          "base_uri": "https://localhost:8080/"
        },
        "outputId": "8f9ffa13-0497-4ccb-d4e1-05c9049a3847"
      },
      "source": [
        "model_cnn.evaluate(X_im_rev, y_trial)"
      ],
      "execution_count": null,
      "outputs": [
        {
          "output_type": "stream",
          "text": [
            "80/80 [==============================] - 0s 4ms/step - loss: 2.3001 - accuracy: 0.3060\n"
          ],
          "name": "stdout"
        },
        {
          "output_type": "execute_result",
          "data": {
            "text/plain": [
              "[2.3000547885894775, 0.30603447556495667]"
            ]
          },
          "metadata": {
            "tags": []
          },
          "execution_count": 81
        }
      ]
    },
    {
      "cell_type": "markdown",
      "metadata": {
        "id": "JKcDdjhRU15i"
      },
      "source": [
        "## MFCC + Mel Spectrogram"
      ]
    },
    {
      "cell_type": "code",
      "metadata": {
        "id": "qFrYsanIVJ1z",
        "colab": {
          "base_uri": "https://localhost:8080/"
        },
        "outputId": "bdac6b7f-77af-482d-b31f-856911f76ccf"
      },
      "source": [
        "X_im = np.vstack(all_feat_list10)\r\n",
        "X_im=np.array(X_im.reshape(X_im.shape[0],X_im.shape[1],X_im.shape[2], 1))\r\n",
        "print(X_im.shape) \r\n",
        "\r\n",
        "from sklearn.model_selection import train_test_split\r\n",
        "\r\n",
        "X_im_train, X_im_test, y_train, y_test = train_test_split(X_im, y, test_size=0.2, random_state=42)"
      ],
      "execution_count": null,
      "outputs": [
        {
          "output_type": "stream",
          "text": [
            "(2494, 148, 32, 1)\n"
          ],
          "name": "stdout"
        }
      ]
    },
    {
      "cell_type": "code",
      "metadata": {
        "id": "7o0sl0luVugv"
      },
      "source": [
        "import tensorflow as tf\r\n",
        "\r\n",
        "n_features = X_im.shape[1]\r\n",
        "time_steps = X_im.shape[2]\r\n",
        "\r\n",
        "model_cnn = tf.keras.models.Sequential()\r\n",
        "model_cnn.add(tf.keras.layers.Conv2D(32, (3, 3), activation='relu', kernel_initializer='he_uniform', padding='same', input_shape=(n_features, time_steps, 1))) # convolve with 32 kernels of size 3 x 3\r\n",
        "model_cnn.add(tf.keras.layers.Conv2D(32, (3, 3), activation='relu', kernel_initializer='he_uniform', padding='same')) # convolve with 32 kernels of size 3 x 3\r\n",
        "model_cnn.add(tf.keras.layers.MaxPooling2D((2, 2))) #Dowmsample by 2 in each direction- take max element of every 2\r\n",
        "model_cnn.add(tf.keras.layers.Conv2D(64, (3, 3), activation='relu', kernel_initializer='he_uniform', padding='same')) # convolve with 64 kernels of size 3 x 3\r\n",
        "model_cnn.add(tf.keras.layers.Conv2D(64, (3, 3), activation='relu', kernel_initializer='he_uniform', padding='same'))\r\n",
        "model_cnn.add(tf.keras.layers.MaxPooling2D((2, 2)))\r\n",
        "model_cnn.add(tf.keras.layers.Conv2D(128, (3, 3), activation='relu', kernel_initializer='he_uniform', padding='same')) # convolve with 128 kernels of size 3 x 3\r\n",
        "model_cnn.add(tf.keras.layers.Conv2D(128, (3, 3), activation='relu', kernel_initializer='he_uniform', padding='same'))\r\n",
        "model_cnn.add(tf.keras.layers.MaxPooling2D((2, 2)))\r\n",
        "model_cnn.add(tf.keras.layers.Flatten()) # Flatten output into a vector\r\n",
        "model_cnn.add(tf.keras.layers.Dense(128, activation='relu', kernel_initializer='he_uniform')) # Fully connected layer with 128 nodes\r\n",
        "model_cnn.add(tf.keras.layers.Dense(10, activation='softmax')) #output layer, size must equal the number of classes\r\n",
        "\r\n",
        "Adam=tf.keras.optimizers.Adam(lr=0.01, beta_1=0.9, beta_2=0.999, epsilon=None, decay=0.9, amsgrad=False)\r\n",
        "\r\n",
        "model_cnn.compile(loss='categorical_crossentropy',\r\n",
        "              optimizer=Adam,\r\n",
        "              metrics=['accuracy'])\r\n",
        "model_cnn.summary() #print out breakdown of model parameters\r\n",
        "history=model_cnn.fit(X_im_train, y_train, validation_split = 0.2, batch_size=200, epochs=500)"
      ],
      "execution_count": null,
      "outputs": []
    },
    {
      "cell_type": "code",
      "metadata": {
        "id": "5j1xSswCWCNC",
        "colab": {
          "base_uri": "https://localhost:8080/"
        },
        "outputId": "bba59395-95bc-4bb1-c258-5151a9fddb81"
      },
      "source": [
        "model_cnn.evaluate(X_im_test, y_test)"
      ],
      "execution_count": null,
      "outputs": [
        {
          "output_type": "stream",
          "text": [
            "16/16 [==============================] - 0s 6ms/step - loss: 40952932.0000 - accuracy: 0.2425\n"
          ],
          "name": "stdout"
        },
        {
          "output_type": "execute_result",
          "data": {
            "text/plain": [
              "[40952932.0, 0.24248497188091278]"
            ]
          },
          "metadata": {
            "tags": []
          },
          "execution_count": 87
        }
      ]
    },
    {
      "cell_type": "code",
      "metadata": {
        "id": "akVoTMMBWcSy",
        "colab": {
          "base_uri": "https://localhost:8080/"
        },
        "outputId": "a146aeed-6285-497d-a585-2ea1d4be29a1"
      },
      "source": [
        "X_im_rev = np.vstack(all_reverb_feat10)\r\n",
        "X_im_rev=X_im_rev.reshape(X_im_rev.shape[0],X_im_rev.shape[1],X_im_rev.shape[2], 1)\r\n",
        "print(all_reverb_feat10[0].shape)\r\n",
        "print(X_im_rev.shape)"
      ],
      "execution_count": null,
      "outputs": [
        {
          "output_type": "stream",
          "text": [
            "(1, 148, 32)\n",
            "(2552, 148, 32, 1)\n"
          ],
          "name": "stdout"
        }
      ]
    },
    {
      "cell_type": "code",
      "metadata": {
        "id": "8Aez9MTnXJsZ",
        "colab": {
          "base_uri": "https://localhost:8080/"
        },
        "outputId": "8c6443cb-71b6-46d8-defe-9c3fa13879bd"
      },
      "source": [
        "model_cnn.evaluate(X_im_rev, y_trial)"
      ],
      "execution_count": null,
      "outputs": [
        {
          "output_type": "stream",
          "text": [
            "80/80 [==============================] - 1s 7ms/step - loss: 3658176.5000 - accuracy: 0.1803\n"
          ],
          "name": "stdout"
        },
        {
          "output_type": "execute_result",
          "data": {
            "text/plain": [
              "[3658176.5, 0.18025077879428864]"
            ]
          },
          "metadata": {
            "tags": []
          },
          "execution_count": 89
        }
      ]
    },
    {
      "cell_type": "markdown",
      "metadata": {
        "id": "jEQo-KxNU4XV"
      },
      "source": [
        "## Mel Spectrogram + Spectral Centroid"
      ]
    },
    {
      "cell_type": "code",
      "metadata": {
        "id": "ic7gskTIVKk9",
        "colab": {
          "base_uri": "https://localhost:8080/"
        },
        "outputId": "259c84fb-5ddb-403b-b69f-4654b5139fec"
      },
      "source": [
        "X_im = np.vstack(all_feat_list11)\r\n",
        "X_im=np.array(X_im.reshape(X_im.shape[0],X_im.shape[1],X_im.shape[2], 1))\r\n",
        "print(X_im.shape) \r\n",
        "\r\n",
        "from sklearn.model_selection import train_test_split\r\n",
        "\r\n",
        "X_im_train, X_im_test, y_train, y_test = train_test_split(X_im, y, test_size=0.2, random_state=42)"
      ],
      "execution_count": null,
      "outputs": [
        {
          "output_type": "stream",
          "text": [
            "(2494, 136, 32, 1)\n"
          ],
          "name": "stdout"
        }
      ]
    },
    {
      "cell_type": "code",
      "metadata": {
        "id": "WEFIGmndVvcO"
      },
      "source": [
        "import tensorflow as tf\r\n",
        "\r\n",
        "n_features = X_im.shape[1]\r\n",
        "time_steps = X_im.shape[2]\r\n",
        "\r\n",
        "model_cnn = tf.keras.models.Sequential()\r\n",
        "model_cnn.add(tf.keras.layers.Conv2D(32, (3, 3), activation='relu', kernel_initializer='he_uniform', padding='same', input_shape=(n_features, time_steps, 1))) # convolve with 32 kernels of size 3 x 3\r\n",
        "model_cnn.add(tf.keras.layers.Conv2D(32, (3, 3), activation='relu', kernel_initializer='he_uniform', padding='same')) # convolve with 32 kernels of size 3 x 3\r\n",
        "model_cnn.add(tf.keras.layers.MaxPooling2D((2, 2))) #Dowmsample by 2 in each direction- take max element of every 2\r\n",
        "model_cnn.add(tf.keras.layers.Conv2D(64, (3, 3), activation='relu', kernel_initializer='he_uniform', padding='same')) # convolve with 64 kernels of size 3 x 3\r\n",
        "model_cnn.add(tf.keras.layers.Conv2D(64, (3, 3), activation='relu', kernel_initializer='he_uniform', padding='same'))\r\n",
        "model_cnn.add(tf.keras.layers.MaxPooling2D((2, 2)))\r\n",
        "model_cnn.add(tf.keras.layers.Conv2D(128, (3, 3), activation='relu', kernel_initializer='he_uniform', padding='same')) # convolve with 128 kernels of size 3 x 3\r\n",
        "model_cnn.add(tf.keras.layers.Conv2D(128, (3, 3), activation='relu', kernel_initializer='he_uniform', padding='same'))\r\n",
        "model_cnn.add(tf.keras.layers.MaxPooling2D((2, 2)))\r\n",
        "model_cnn.add(tf.keras.layers.Flatten()) # Flatten output into a vector\r\n",
        "model_cnn.add(tf.keras.layers.Dense(128, activation='relu', kernel_initializer='he_uniform')) # Fully connected layer with 128 nodes\r\n",
        "model_cnn.add(tf.keras.layers.Dense(10, activation='softmax')) #output layer, size must equal the number of classes\r\n",
        "\r\n",
        "Adam=tf.keras.optimizers.Adam(lr=0.01, beta_1=0.9, beta_2=0.999, epsilon=None, decay=0.9, amsgrad=False)\r\n",
        "\r\n",
        "model_cnn.compile(loss='categorical_crossentropy',\r\n",
        "              optimizer=Adam,\r\n",
        "              metrics=['accuracy'])\r\n",
        "model_cnn.summary() #print out breakdown of model parameters\r\n",
        "history=model_cnn.fit(X_im_train, y_train, validation_split = 0.2, batch_size=200, epochs=500)"
      ],
      "execution_count": null,
      "outputs": []
    },
    {
      "cell_type": "code",
      "metadata": {
        "id": "8B2rLaUxWEap",
        "colab": {
          "base_uri": "https://localhost:8080/"
        },
        "outputId": "3eeaa92b-b189-4e2d-e395-aa6a546b7a05"
      },
      "source": [
        "model_cnn.evaluate(X_im_test, y_test)"
      ],
      "execution_count": null,
      "outputs": [
        {
          "output_type": "stream",
          "text": [
            "16/16 [==============================] - 0s 12ms/step - loss: 31831336.0000 - accuracy: 0.1443\n"
          ],
          "name": "stdout"
        },
        {
          "output_type": "execute_result",
          "data": {
            "text/plain": [
              "[31831336.0, 0.1442885845899582]"
            ]
          },
          "metadata": {
            "tags": []
          },
          "execution_count": 92
        }
      ]
    },
    {
      "cell_type": "code",
      "metadata": {
        "id": "4MnhMI5AWe8c",
        "colab": {
          "base_uri": "https://localhost:8080/"
        },
        "outputId": "185d6de5-d8c0-47c2-e474-b70378869d0e"
      },
      "source": [
        "X_im_rev = np.vstack(all_reverb_feat11)\r\n",
        "X_im_rev=X_im_rev.reshape(X_im_rev.shape[0],X_im_rev.shape[1],X_im_rev.shape[2], 1)\r\n",
        "print(all_reverb_feat11[0].shape)\r\n",
        "print(X_im_rev.shape)"
      ],
      "execution_count": null,
      "outputs": [
        {
          "output_type": "stream",
          "text": [
            "(1, 136, 32)\n",
            "(2552, 136, 32, 1)\n"
          ],
          "name": "stdout"
        }
      ]
    },
    {
      "cell_type": "code",
      "metadata": {
        "id": "mVbi_FXOXKcr",
        "colab": {
          "base_uri": "https://localhost:8080/"
        },
        "outputId": "260e3371-2c10-41be-8a8d-a1f281a782a7"
      },
      "source": [
        "model_cnn.evaluate(X_im_rev, y_trial)"
      ],
      "execution_count": null,
      "outputs": [
        {
          "output_type": "stream",
          "text": [
            "80/80 [==============================] - 1s 7ms/step - loss: 2239074.0000 - accuracy: 0.1579\n"
          ],
          "name": "stdout"
        },
        {
          "output_type": "execute_result",
          "data": {
            "text/plain": [
              "[2239074.0, 0.15791535377502441]"
            ]
          },
          "metadata": {
            "tags": []
          },
          "execution_count": 94
        }
      ]
    },
    {
      "cell_type": "markdown",
      "metadata": {
        "id": "cbmV1zbPU8iX"
      },
      "source": [
        "## MFCC + Spectral Centroid + Mel Spectrogram"
      ]
    },
    {
      "cell_type": "code",
      "metadata": {
        "id": "qbTfHxhxVLTD",
        "colab": {
          "base_uri": "https://localhost:8080/"
        },
        "outputId": "e106b4d8-7731-4002-f78a-57e6475a81cd"
      },
      "source": [
        "X_im = np.vstack(all_feat_list12)\r\n",
        "X_im=np.array(X_im.reshape(X_im.shape[0],X_im.shape[1],X_im.shape[2], 1))\r\n",
        "print(X_im.shape) \r\n",
        "\r\n",
        "from sklearn.model_selection import train_test_split\r\n",
        "\r\n",
        "X_im_train, X_im_test, y_train, y_test = train_test_split(X_im, y, test_size=0.2, random_state=42)"
      ],
      "execution_count": null,
      "outputs": [
        {
          "output_type": "stream",
          "text": [
            "(2494, 156, 32, 1)\n"
          ],
          "name": "stdout"
        }
      ]
    },
    {
      "cell_type": "code",
      "metadata": {
        "id": "_xcXZB-jUvNO"
      },
      "source": [
        "import tensorflow as tf\r\n",
        "\r\n",
        "n_features = X_im.shape[1]\r\n",
        "time_steps = X_im.shape[2]\r\n",
        "\r\n",
        "model_cnn = tf.keras.models.Sequential()\r\n",
        "model_cnn.add(tf.keras.layers.Conv2D(32, (3, 3), activation='relu', kernel_initializer='he_uniform', padding='same', input_shape=(n_features, time_steps, 1))) # convolve with 32 kernels of size 3 x 3\r\n",
        "model_cnn.add(tf.keras.layers.Conv2D(32, (3, 3), activation='relu', kernel_initializer='he_uniform', padding='same')) # convolve with 32 kernels of size 3 x 3\r\n",
        "model_cnn.add(tf.keras.layers.MaxPooling2D((2, 2))) #Dowmsample by 2 in each direction- take max element of every 2\r\n",
        "model_cnn.add(tf.keras.layers.Conv2D(64, (3, 3), activation='relu', kernel_initializer='he_uniform', padding='same')) # convolve with 64 kernels of size 3 x 3\r\n",
        "model_cnn.add(tf.keras.layers.Conv2D(64, (3, 3), activation='relu', kernel_initializer='he_uniform', padding='same'))\r\n",
        "model_cnn.add(tf.keras.layers.MaxPooling2D((2, 2)))\r\n",
        "model_cnn.add(tf.keras.layers.Conv2D(128, (3, 3), activation='relu', kernel_initializer='he_uniform', padding='same')) # convolve with 128 kernels of size 3 x 3\r\n",
        "model_cnn.add(tf.keras.layers.Conv2D(128, (3, 3), activation='relu', kernel_initializer='he_uniform', padding='same'))\r\n",
        "model_cnn.add(tf.keras.layers.MaxPooling2D((2, 2)))\r\n",
        "model_cnn.add(tf.keras.layers.Flatten()) # Flatten output into a vector\r\n",
        "model_cnn.add(tf.keras.layers.Dense(128, activation='relu', kernel_initializer='he_uniform')) # Fully connected layer with 128 nodes\r\n",
        "model_cnn.add(tf.keras.layers.Dense(10, activation='softmax')) #output layer, size must equal the number of classes\r\n",
        "\r\n",
        "Adam=tf.keras.optimizers.Adam(lr=0.01, beta_1=0.9, beta_2=0.999, epsilon=None, decay=0.9, amsgrad=False)\r\n",
        "\r\n",
        "model_cnn.compile(loss='categorical_crossentropy',\r\n",
        "              optimizer=Adam,\r\n",
        "              metrics=['accuracy'])\r\n",
        "model_cnn.summary() #print out breakdown of model parameters\r\n",
        "history=model_cnn.fit(X_im_train, y_train, validation_split = 0.2, batch_size=200, epochs=500)"
      ],
      "execution_count": null,
      "outputs": []
    },
    {
      "cell_type": "code",
      "metadata": {
        "id": "KKP-CXCMWFfX",
        "colab": {
          "base_uri": "https://localhost:8080/"
        },
        "outputId": "ede659bd-0274-441a-a0af-7e951e51b61b"
      },
      "source": [
        "model_cnn.evaluate(X_im_test, y_test)"
      ],
      "execution_count": null,
      "outputs": [
        {
          "output_type": "stream",
          "text": [
            "16/16 [==============================] - 0s 13ms/step - loss: 107505560.0000 - accuracy: 0.2044\n"
          ],
          "name": "stdout"
        },
        {
          "output_type": "execute_result",
          "data": {
            "text/plain": [
              "[107505560.0, 0.20440882444381714]"
            ]
          },
          "metadata": {
            "tags": []
          },
          "execution_count": 97
        }
      ]
    },
    {
      "cell_type": "code",
      "metadata": {
        "id": "C73zgu_xWhG5",
        "colab": {
          "base_uri": "https://localhost:8080/"
        },
        "outputId": "eb62926f-522b-4d1a-b092-446fe1acd1fb"
      },
      "source": [
        "X_im_rev = np.vstack(all_reverb_feat12)\r\n",
        "X_im_rev=X_im_rev.reshape(X_im_rev.shape[0],X_im_rev.shape[1],X_im_rev.shape[2], 1)\r\n",
        "print(all_reverb_feat12[0].shape)\r\n",
        "print(X_im_rev.shape)"
      ],
      "execution_count": null,
      "outputs": [
        {
          "output_type": "stream",
          "text": [
            "(1, 156, 32)\n",
            "(2552, 156, 32, 1)\n"
          ],
          "name": "stdout"
        }
      ]
    },
    {
      "cell_type": "code",
      "metadata": {
        "id": "RI_d0hz6XK_k",
        "colab": {
          "base_uri": "https://localhost:8080/"
        },
        "outputId": "9e0db893-47ce-456d-e3da-0fd1c20ea311"
      },
      "source": [
        "model_cnn.evaluate(X_im_rev, y_trial)"
      ],
      "execution_count": null,
      "outputs": [
        {
          "output_type": "stream",
          "text": [
            "80/80 [==============================] - 1s 7ms/step - loss: 6377745.0000 - accuracy: 0.1759\n"
          ],
          "name": "stdout"
        },
        {
          "output_type": "execute_result",
          "data": {
            "text/plain": [
              "[6377745.0, 0.17594043910503387]"
            ]
          },
          "metadata": {
            "tags": []
          },
          "execution_count": 99
        }
      ]
    },
    {
      "cell_type": "markdown",
      "metadata": {
        "id": "WG7dyXMTgWtp"
      },
      "source": [
        "# End to End Models"
      ]
    },
    {
      "cell_type": "markdown",
      "metadata": {
        "id": "qJRr6_JT8na3"
      },
      "source": [
        "## Butter Filter"
      ]
    },
    {
      "cell_type": "code",
      "metadata": {
        "id": "BonU31yZ8rm9"
      },
      "source": [
        "from numpy import *\n",
        "from numpy.fft import *\n",
        "import matplotlib.pyplot as plt\n",
        "from matplotlib.pyplot import *\n",
        "from IPython.display import Audio\n",
        "from scipy.signal import butter, lfilter, freqz\n",
        "import librosa.display"
      ],
      "execution_count": null,
      "outputs": []
    },
    {
      "cell_type": "code",
      "metadata": {
        "id": "1SINb26daErw"
      },
      "source": [
        "def bandpass(data, lowcut, highcut, fs, order = 8):\n",
        "    nyq = 0.5 * fs\n",
        "    low = lowcut / nyq\n",
        "    high = highcut /nyq\n",
        "    b, a = butter(order, [low, high], btype = 'band')\n",
        "    bandpass = lfilter(b, a, data)\n",
        "    return bandpass"
      ],
      "execution_count": null,
      "outputs": []
    },
    {
      "cell_type": "code",
      "metadata": {
        "id": "Ki4KbF0LC8UL"
      },
      "source": [
        "fs = 16000\n",
        "lowcut = 250\n",
        "highcut = 7500\n",
        "order = 5\n",
        "\n",
        "feat_bandpass = []\n",
        "for idx in range(len(all_reverb_signals)):\n",
        "    signal = all_reverb_signals[idx]\n",
        "    y = bandpass(signal, lowcut, highcut, fs, order=order)\n",
        "    feat_bandpass.append(y)\n",
        "X_bandpass = np.vstack(feat_bandpass)\n",
        "X_bandpass = X_bandpass.reshape(X_bandpass.shape[0],X_bandpass.shape[1],1)\n",
        "\n",
        "X_bp_train = np.zeros(X_sig_train.shape)\n",
        "for i in range(X_sig_train.shape[0]):\n",
        "    signal = X_sig_train[i]\n",
        "    y = bandpass(signal, lowcut, highcut, fs, order=order)\n",
        "    X_bp_train[i] = y\n",
        "\n",
        "X_bp_test = np.zeros(X_sig_test.shape)\n",
        "for i in range(X_sig_test.shape[0]):\n",
        "    signal = X_sig_test[i];\n",
        "    y = bandpass(signal, lowcut, highcut, fs, order=order)\n",
        "    X_bp_test[i] = y"
      ],
      "execution_count": null,
      "outputs": []
    },
    {
      "cell_type": "code",
      "metadata": {
        "colab": {
          "base_uri": "https://localhost:8080/"
        },
        "id": "t3N2ARzQaPLm",
        "outputId": "67176054-4f46-4b0b-986f-38bbc45dcc20"
      },
      "source": [
        "model_e2e.evaluate(X_bandpass, y_trial)"
      ],
      "execution_count": null,
      "outputs": [
        {
          "output_type": "stream",
          "text": [
            "80/80 [==============================] - 6s 79ms/step - loss: 1.7433 - accuracy: 0.5200\n"
          ],
          "name": "stdout"
        },
        {
          "output_type": "execute_result",
          "data": {
            "text/plain": [
              "[1.7432587146759033, 0.5199843049049377]"
            ]
          },
          "metadata": {
            "tags": []
          },
          "execution_count": 113
        }
      ]
    },
    {
      "cell_type": "code",
      "metadata": {
        "id": "dIH6uAFPai0b"
      },
      "source": [
        "import tensorflow as tf\r\n",
        "\r\n",
        "model_bp = tf.keras.models.Sequential()\r\n",
        "model_bp.add(tf.keras.Input(shape=(fs,1))) #Make sure that the input size is the size of the signal\r\n",
        "model_bp.add(tf.keras.layers.BatchNormalization(axis=-1, momentum=0.99, epsilon=1e-3, center=True, scale=True, )) #adjust input to unit variance and zero mean\r\n",
        "#First Conv1D layer\r\n",
        "model_bp.add(tf.keras.layers.Conv1D(8,13, padding='valid', activation='relu', strides=1)) #Convolve with 8 1D kernels of length 13\r\n",
        "model_bp.add(tf.keras.layers.MaxPooling1D(3)) #Downsample - take the max out of every three elements\r\n",
        "model_bp.add(tf.keras.layers.Dropout(0.3)) #drop nodes with probability 0.3\r\n",
        "#Second Conv1D layer\r\n",
        "model_bp.add(tf.keras.layers.Conv1D(16, 11, padding='valid', activation='relu', strides=1)) #Convolve with 16 1D kernels of length 11\r\n",
        "model_bp.add(tf.keras.layers.MaxPooling1D(3))\r\n",
        "model_bp.add(tf.keras.layers.Dropout(0.3))\r\n",
        "#Third Conv1D layer\r\n",
        "model_bp.add(tf.keras.layers.Conv1D(32, 9, padding='valid', activation='relu', strides=1))\r\n",
        "model_bp.add(tf.keras.layers.MaxPooling1D(3))\r\n",
        "model_bp.add(tf.keras.layers.Dropout(0.3))\r\n",
        "model_bp.add(tf.keras.layers.BatchNormalization(axis=-1, momentum=0.99, epsilon=1e-3, center=True, scale=True))\r\n",
        "model_bp.add(tf.keras.layers.Bidirectional(tf.python.keras.layers.CuDNNGRU(128, return_sequences=True), merge_mode='sum')) #Recurrent layer, uses time series data\r\n",
        "model_bp.add(tf.keras.layers.Bidirectional(tf.python.keras.layers.CuDNNGRU(128, return_sequences=True), merge_mode='sum'))\r\n",
        "model_bp.add(tf.keras.layers.Bidirectional(tf.python.keras.layers.CuDNNGRU(128, return_sequences=False), merge_mode='sum')) #set return sequences to False for last recurrent layer\r\n",
        "model_bp.add(tf.keras.layers.BatchNormalization(axis=-1, momentum=0.99, epsilon=1e-3, center=True, scale=True))\r\n",
        "#Flatten layer\r\n",
        "model_bp.add(tf.keras.layers.Flatten()) # Turn 2D result of convolution to a single vector\r\n",
        "#Dense Layer 1\r\n",
        "model_bp.add(tf.keras.layers.Dense(256, activation='relu')) #Fully connected layer\r\n",
        "model_bp.add(tf.keras.layers. Dense(10, activation=\"softmax\")) #output layer, need size = num_classes\r\n",
        "model_bp.summary() #show breakdown of parameters\r\n",
        "\r\n",
        "model_bp.compile(loss='categorical_crossentropy', optimizer='nadam', metrics=['accuracy']) #decide loss function and metrics\r\n",
        "\r\n",
        "hist = model_bp.fit(\r\n",
        "    x=X_bp_train, \r\n",
        "    y=y_train,\r\n",
        "    epochs=50, \r\n",
        "    batch_size=32)\r\n",
        "\r\n",
        "model_bp.save_weights(join(project_path, '.\\model_bp\\model_bp'))"
      ],
      "execution_count": null,
      "outputs": []
    },
    {
      "cell_type": "code",
      "metadata": {
        "colab": {
          "base_uri": "https://localhost:8080/"
        },
        "id": "RgVocuSOdRc-",
        "outputId": "48e82d93-0452-4cc6-fd7e-dd1edbded849"
      },
      "source": [
        "model_bp.evaluate(X_bandpass, y_trial)"
      ],
      "execution_count": null,
      "outputs": [
        {
          "output_type": "stream",
          "text": [
            "80/80 [==============================] - 6s 80ms/step - loss: 1.5075 - accuracy: 0.5619\n",
            "80/80 [==============================] - 6s 79ms/step - loss: 1.4592 - accuracy: 0.6074\n"
          ],
          "name": "stdout"
        },
        {
          "output_type": "execute_result",
          "data": {
            "text/plain": [
              "[1.45917809009552, 0.6073668003082275]"
            ]
          },
          "metadata": {
            "tags": []
          },
          "execution_count": 115
        }
      ]
    },
    {
      "cell_type": "markdown",
      "metadata": {
        "id": "bMFe-68f4i6f"
      },
      "source": [
        "## Attack Amplification"
      ]
    },
    {
      "cell_type": "code",
      "metadata": {
        "id": "ccuJXBfmgkpq"
      },
      "source": [
        "# https://docs.scipy.org/doc/scipy/reference/generated/scipy.signal.butter.html\n",
        "# http://man.hubwiz.com/docset/LibROSA.docset/Contents/Resources/Documents/generated/librosa.filters.mel.html\n",
        "# https://docs.scipy.org/doc/scipy/reference/generated/scipy.signal.firwin.html\n",
        "\n",
        "from scipy import signal\n",
        "import matplotlib.pyplot as plt\n",
        "from scipy.signal import butter, lfilter, freqz, sosfilt, sosfreqz\n",
        "\n",
        "all_reverb_signals = np.asarray(all_reverb_signals)"
      ],
      "execution_count": null,
      "outputs": []
    },
    {
      "cell_type": "code",
      "metadata": {
        "id": "AwuPF6dm6CxE"
      },
      "source": [
        "# high pass filter - for general noise cancellation\n",
        "# our attack amplification method is a few cells below\n",
        "# this is just here so we can test noise cancellation and attack amplifcation together\n",
        "from scipy.fft import fft, ifft\n",
        "import copy \n",
        "\n",
        "# 250 – 2,000 Hz - vowels/voiced consonants\n",
        "# 2,000 - 8,000 Hz\n",
        "\n",
        "#high pass filter to reduce vowel content\n",
        "def hp_filter(data):\n",
        "  # create high pass filter\n",
        "  new_data = deepcopy(data) # copy so we can test methods separately\n",
        "  b = signal.firwin(101, cutoff=250, fs=16000, pass_zero=False) # create hp filter\n",
        "  # take fft of signals\n",
        "  for i in range(len(new_data)):\n",
        "    new_data[i] = signal.lfilter(b, [1.0], new_data[i]) # high pass to reduce noise below cutoff\n",
        "\n",
        "  X_sig_rev=np.vstack(new_data)\n",
        "  X_sig_rev=X_sig_rev.reshape(X_sig_rev.shape[0],X_sig_rev.shape[1],1)\n",
        "  model_e2e.evaluate(X_sig_rev, y_trial)\n",
        "  return new_data"
      ],
      "execution_count": null,
      "outputs": []
    },
    {
      "cell_type": "code",
      "metadata": {
        "id": "S8bykzEfnsDB"
      },
      "source": [
        "# distinct echo: 50-100 ms after previous sound\n",
        "# reverb echo: approximately 50 ms\n",
        "# working method 1: parse through dataset and identify attacks, amplify and attenuate after echo period\n",
        "\n",
        "#plt.plot(all_reverb_signals[0])\n",
        "echo_window = int(fs * 0.05)\n",
        "small_window = int(echo_window/2)\n",
        "\n",
        "# method: find areas of quiet and boost signal for one echo period following, attenuate signal afterwards\n",
        "# locate spikes using standard deviation\n",
        "def amplify_attacks(dataset, size):\n",
        "  result = []\n",
        "  last_index = 0\n",
        "  i = 0\n",
        "  while i < len(dataset):\n",
        "    # if we have reached the end of the dataset, alternate size to prevent index out of bounds\n",
        "    if i + size*2 > len(dataset) - 1: \n",
        "      size = int((len(dataset) - i)/2)\n",
        "\n",
        "    #find standard deviation between 2 subsequent chunks\n",
        "    if np.std(dataset[i+size:i+size*2]) <= 1.8 * np.std(dataset[i:i+size]):\n",
        "      dataset[i+size:i+size*2] = dataset[i+size:i+size*2] * 0.3\n",
        "      dataset[i:i+size] = dataset[i:i+size] * 3\n",
        "    i = i + size*2\n",
        "  return dataset\n",
        "\n",
        "# apply method on data\n",
        "def method1(data):\n",
        "  for i in range(len(data)):\n",
        "    data[i] = amplify_attacks(data[i], small_window)\n",
        "\n",
        "  X_sig_rev=np.vstack(data)\n",
        "  X_sig_rev=X_sig_rev.reshape(X_sig_rev.shape[0],X_sig_rev.shape[1],1)\n",
        "  print(X_sig_rev.shape)\n",
        "  model_e2e.evaluate(X_sig_rev, y_trial)\n"
      ],
      "execution_count": null,
      "outputs": []
    },
    {
      "cell_type": "code",
      "metadata": {
        "colab": {
          "base_uri": "https://localhost:8080/"
        },
        "id": "5Kbx77sB5ZV0",
        "outputId": "366cbbe6-8a5f-4a2d-d1dc-ae18b466863b"
      },
      "source": [
        "filtered_data = hp_filter(all_reverb_signals) # high pass filter - cutoff at 250 Hz\n",
        "method1(filtered_data) # method1 + hp filter combination\n",
        "method1(all_reverb_signals) # method1 - amplify strikes and attenuate after echo period (bottom percentage)\n",
        "# on average, attack amplification increases the accuracy by 1% between reruns of the entire network\n",
        "# we have had an increase of up to 3 percent\n",
        "# for this run, it increased from 0.4871 to 0.4957 in accuracy"
      ],
      "execution_count": null,
      "outputs": [
        {
          "output_type": "stream",
          "text": [
            "80/80 [==============================] - 5s 60ms/step - loss: 1.8177 - accuracy: 0.4890\n",
            "(2552, 16000, 1)\n",
            "80/80 [==============================] - 5s 59ms/step - loss: 1.7942 - accuracy: 0.4863\n",
            "(2552, 16000, 1)\n",
            "80/80 [==============================] - 4s 56ms/step - loss: 1.9297 - accuracy: 0.4957\n"
          ],
          "name": "stdout"
        }
      ]
    },
    {
      "cell_type": "markdown",
      "metadata": {
        "id": "YXpiilrF4wOX"
      },
      "source": [
        "## Echo Cancellation"
      ]
    },
    {
      "cell_type": "code",
      "metadata": {
        "id": "mE8f6QWMNBpG"
      },
      "source": [
        "# https://docs.scipy.org/doc/scipy/reference/generated/scipy.signal.butter.html\n",
        "# http://man.hubwiz.com/docset/LibROSA.docset/Contents/Resources/Documents/generated/librosa.filters.mel.html\n",
        "# https://docs.scipy.org/doc/scipy/reference/generated/scipy.signal.firwin.html\n",
        "\n",
        "from scipy import signal\n",
        "import matplotlib.pyplot as plt\n",
        "from scipy.signal import butter, lfilter, freqz, sosfilt, sosfreqz\n",
        "\n",
        "all_reverb_signals = np.asarray(all_reverb_signals)"
      ],
      "execution_count": null,
      "outputs": []
    },
    {
      "cell_type": "code",
      "metadata": {
        "id": "zFUwNVEuyUM2"
      },
      "source": [
        "# METHOD 3: extract echo delay and amplitude from autocorrelation to create echo cancellation filter\n",
        "# code above this point is identical to previous notebooks\n",
        "\n",
        "#perform autocorrelation of all signals\n",
        "auto_corr = list()\n",
        "for i in range(len(all_reverb_signals)):\n",
        "  auto_correlation = signal.correlate(all_reverb_signals[i], all_reverb_signals[i])\n",
        "  auto_correlation = auto_correlation / sum(auto_correlation) #normalize signal\n",
        "  auto_corr.append(auto_correlation)"
      ],
      "execution_count": null,
      "outputs": []
    },
    {
      "cell_type": "code",
      "metadata": {
        "id": "1q3jbDGn9t55"
      },
      "source": [
        "import scipy\n",
        "avg_echo_delay = .02 * fs # according to research, reverb echo delay is often 50ms\n",
        "                          # we chose 20ms to provide more flexibility\n",
        "\n",
        "for i in range(len(auto_corr)):\n",
        "  # find peaks in autocorrelation that correspond to echo \n",
        "  peaks = signal.find_peaks(auto_corr[i], prominence=.02, distance=avg_echo_delay)\n",
        "  echo_delay_vector = peaks[0]\n",
        "  # skip if no prominent peak pairs were found\n",
        "  if len(echo_delay_vector) < 3:\n",
        "    continue\n",
        "  center = int(len(echo_delay_vector)/2)\n",
        "  # choose 1 adjacent peak for simplicity - but our model would be better with multiple peaks\n",
        "  center_ind = echo_delay_vector[center] # center will always be the max bc of autocorrelation properties\n",
        "  echo_delay = echo_delay_vector[center + 1] - center_ind\n",
        "  echo_amp = peaks[1]['prominences'][center]/peaks[1]['prominences'][center+1]\n",
        "  # create echo cancellation filter\n",
        "  b = np.zeros(echo_delay+1) #filter should be size of echo delay\n",
        "  a = np.zeros(echo_delay+1)\n",
        "  # infinite impulse response\n",
        "  b[0] = 1\n",
        "  a[0] = 1\n",
        "  a[echo_delay] = echo_amp\n",
        "  # apply filter\n",
        "  new_sig = scipy.signal.lfilter(b, a, all_reverb_signals[i], axis=-1, zi=None)\n",
        "  # check if filter successfully attenuated echo\n",
        "  # we can check this by comparing the power of the resulting signal with our expected power\n",
        "  # if the power is less, we have attenuated echo, if it is more, our filter was unsuccessful\n",
        "  new_sig_auto = signal.correlate(new_sig, new_sig)\n",
        "  expected_amplification_factor = 1 + np.square(echo_amp) \n",
        "  if auto_corr[i][15999] * expected_amplification_factor >= new_sig_auto[15999]: #15999 should be the center of autocorrelation\n",
        "    all_reverb_signals[i] = new_sig                                           # center of autocorrelation corresponds to signal power\n",
        "    # replace original signal if our new signal appears successful"
      ],
      "execution_count": null,
      "outputs": []
    },
    {
      "cell_type": "code",
      "metadata": {
        "colab": {
          "base_uri": "https://localhost:8080/"
        },
        "id": "VYahF9YrRBuK",
        "outputId": "6a8f1e59-8cb4-4348-a91e-b256e74a9091"
      },
      "source": [
        "X_sig_rev=np.vstack(all_reverb_signals)\n",
        "X_sig_rev=X_sig_rev.reshape(X_sig_rev.shape[0],X_sig_rev.shape[1],1)\n",
        "print(X_sig_rev.shape)\n",
        "model_e2e.evaluate(X_sig_rev, y_trial) \n",
        "# accuracy does not change: potential reasons\n",
        "# our model is too simplistic - should take into account multiple echo across multiple samples\n",
        "# our model does not accomodate for echo phase\n",
        "# our infinite impulse response function is unstable"
      ],
      "execution_count": null,
      "outputs": [
        {
          "output_type": "stream",
          "text": [
            "(2552, 16000, 1)\n",
            "80/80 [==============================] - 5s 60ms/step - loss: 1.9152 - accuracy: 0.4604\n"
          ],
          "name": "stdout"
        },
        {
          "output_type": "execute_result",
          "data": {
            "text/plain": [
              "[1.9151502847671509, 0.46042320132255554]"
            ]
          },
          "metadata": {
            "tags": []
          },
          "execution_count": 22
        }
      ]
    },
    {
      "cell_type": "markdown",
      "metadata": {
        "id": "7tlv9r6TWFJD"
      },
      "source": [
        "## Audodecoder"
      ]
    },
    {
      "cell_type": "code",
      "metadata": {
        "id": "svQNmPWTuugu"
      },
      "source": [
        "import tensorflow as tf\n",
        "from tensorflow.keras import *\n",
        "from tensorflow.keras.layers import *\n",
        "import time\n",
        "from IPython.display import Audio\n",
        "import os\n",
        "import librosa.feature as lf\n",
        "import numpy as np\n",
        "import pickle\n",
        "from os.path import join"
      ],
      "execution_count": null,
      "outputs": []
    },
    {
      "cell_type": "code",
      "metadata": {
        "colab": {
          "base_uri": "https://localhost:8080/"
        },
        "id": "Y021cLseOcEJ",
        "outputId": "198994cb-a3d9-4889-f3da-5e6c93c708a9"
      },
      "source": [
        "if os.name == 'nt':\n",
        "    # local runtime dir\n",
        "    os.chdir('D:/Code/EE114 Project/speech_commands_v0.01')\n",
        "    project_path = \"G:/My Drive/UCLA/EE 114/Project\"\n",
        "else:\n",
        "    # hosted runtime dir\n",
        "    os.chdir('/content/gdrive/MyDrive/UCLA/EE 114/Project/data')\n",
        "    project_path = \"/content/gdrive/MyDrive/UCLA/EE 114/Project\"\n",
        "print('Project mounted at:', project_path)"
      ],
      "execution_count": null,
      "outputs": [
        {
          "output_type": "stream",
          "text": [
            "Project mounted at: G:/My Drive/UCLA/EE 114/Project\n"
          ],
          "name": "stdout"
        }
      ]
    },
    {
      "cell_type": "code",
      "metadata": {
        "id": "M7u35FxteX-T"
      },
      "source": [
        "with open(join(project_path, \"all_reverb_signals.txt\"), \"rb\") as fp:\n",
        "    all_reverb_signals = pickle.load(fp)\n",
        "with open(join(project_path, \"all_training_signals.txt\"), \"rb\") as fp:\n",
        "    all_training_signals = pickle.load(fp)\n",
        "fs=16000\n",
        "X_target = np.vstack(all_training_signals)\n",
        "X_target = X_target.reshape(X_target.shape[0], X_target.shape[1], 1)\n",
        "X_input = np.vstack(all_reverb_signals)\n",
        "X_input = X_input.reshape(X_input.shape[0], X_input.shape[1], 1)"
      ],
      "execution_count": null,
      "outputs": []
    },
    {
      "cell_type": "code",
      "metadata": {
        "id": "DKG8gVR7prHQ"
      },
      "source": [
        "with open(join(project_path, \"X_input.txt\"), \"rb\") as fp:\r\n",
        "    X_input = pickle.load(fp)\r\n",
        "with open(join(project_path, \"X_.txt\"), \"rb\") as fp:\r\n",
        "   X_target = pickle.load(fp)\r\n",
        "fs=16000"
      ],
      "execution_count": null,
      "outputs": []
    },
    {
      "cell_type": "code",
      "metadata": {
        "colab": {
          "base_uri": "https://localhost:8080/"
        },
        "id": "MGl-PrjxEV2x",
        "outputId": "01ea3233-f95a-4159-fff5-2a5d37f3747e"
      },
      "source": [
        "autoencoder = Sequential([\n",
        "    Input(shape=(16000,1)),\n",
        "    Conv1D(256, 3, padding='same', activation='relu'),\n",
        "    MaxPool1D(2, padding='same'),\n",
        "    Conv1D(128, 3, padding='same', activation='relu'),\n",
        "    MaxPool1D(2, padding='same'),\n",
        "    Conv1D(64, 3, padding='same', activation='relu'),\n",
        "    MaxPool1D(2, padding='same'),\n",
        "    Conv1D(32, 3, padding='same', activation='relu'),\n",
        "    MaxPool1D(2, padding='same'),\n",
        "    Conv1DTranspose(32, 3, padding='same', activation='relu'),\n",
        "    UpSampling1D(2),\n",
        "    Conv1DTranspose(64, 3, padding='same', activation='relu'),\n",
        "    UpSampling1D(2),\n",
        "    Conv1DTranspose(128, 3, padding='same', activation='relu'),\n",
        "    UpSampling1D(2),\n",
        "    Conv1DTranspose(256, 3, padding='same', activation='relu'),\n",
        "    UpSampling1D(2),\n",
        "    Conv1D(1, 3, padding='same', activation='relu'),\n",
        "    Dense(1)\n",
        "])\n",
        "\n",
        "autoencoder.compile(optimizer='Adam', loss=losses.MeanSquaredError())\n",
        "autoencoder.summary()"
      ],
      "execution_count": null,
      "outputs": [
        {
          "output_type": "stream",
          "text": [
            "Model: \"sequential\"\n",
            "_________________________________________________________________\n",
            "Layer (type)                 Output Shape              Param #   \n",
            "=================================================================\n",
            "conv1d (Conv1D)              (None, 16000, 256)        1024      \n",
            "_________________________________________________________________\n",
            "max_pooling1d (MaxPooling1D) (None, 8000, 256)         0         \n",
            "_________________________________________________________________\n",
            "conv1d_1 (Conv1D)            (None, 8000, 128)         98432     \n",
            "_________________________________________________________________\n",
            "max_pooling1d_1 (MaxPooling1 (None, 4000, 128)         0         \n",
            "_________________________________________________________________\n",
            "conv1d_2 (Conv1D)            (None, 4000, 64)          24640     \n",
            "_________________________________________________________________\n",
            "max_pooling1d_2 (MaxPooling1 (None, 2000, 64)          0         \n",
            "_________________________________________________________________\n",
            "conv1d_3 (Conv1D)            (None, 2000, 32)          6176      \n",
            "_________________________________________________________________\n",
            "max_pooling1d_3 (MaxPooling1 (None, 1000, 32)          0         \n",
            "_________________________________________________________________\n",
            "conv1d_transpose (Conv1DTran (None, 1000, 32)          3104      \n",
            "_________________________________________________________________\n",
            "up_sampling1d (UpSampling1D) (None, 2000, 32)          0         \n",
            "_________________________________________________________________\n",
            "conv1d_transpose_1 (Conv1DTr (None, 2000, 64)          6208      \n",
            "_________________________________________________________________\n",
            "up_sampling1d_1 (UpSampling1 (None, 4000, 64)          0         \n",
            "_________________________________________________________________\n",
            "conv1d_transpose_2 (Conv1DTr (None, 4000, 128)         24704     \n",
            "_________________________________________________________________\n",
            "up_sampling1d_2 (UpSampling1 (None, 8000, 128)         0         \n",
            "_________________________________________________________________\n",
            "conv1d_transpose_3 (Conv1DTr (None, 8000, 256)         98560     \n",
            "_________________________________________________________________\n",
            "up_sampling1d_3 (UpSampling1 (None, 16000, 256)        0         \n",
            "_________________________________________________________________\n",
            "conv1d_4 (Conv1D)            (None, 16000, 1)          769       \n",
            "_________________________________________________________________\n",
            "dense (Dense)                (None, 16000, 1)          2         \n",
            "=================================================================\n",
            "Total params: 263,619\n",
            "Trainable params: 263,619\n",
            "Non-trainable params: 0\n",
            "_________________________________________________________________\n"
          ],
          "name": "stdout"
        }
      ]
    },
    {
      "cell_type": "code",
      "metadata": {
        "id": "0OYilrMqMOFW"
      },
      "source": [
        "autoencoder.fit(X_input, X_target,\n",
        "                epochs=50,\n",
        "                shuffle=True)"
      ],
      "execution_count": null,
      "outputs": []
    },
    {
      "cell_type": "code",
      "metadata": {
        "colab": {
          "base_uri": "https://localhost:8080/"
        },
        "id": "hGhJ3g07apGi",
        "outputId": "7b1ae4fd-8593-4527-ab6a-33847daf2496"
      },
      "source": [
        "pred = autoencoder.predict(X_sig_rev)\n",
        "model_e2e.evaluate(pred, y_trail)"
      ],
      "execution_count": null,
      "outputs": [
        {
          "output_type": "stream",
          "text": [
            "16/16 [==============================] - 4s 256ms/step - loss: 1.3464 - accuracy: 0.6693\n"
          ],
          "name": "stdout"
        },
        {
          "output_type": "execute_result",
          "data": {
            "text/plain": [
              "[1.346423625946045, 0.6693387031555176]"
            ]
          },
          "metadata": {
            "tags": []
          },
          "execution_count": 16
        }
      ]
    },
    {
      "cell_type": "code",
      "metadata": {
        "id": "8yykCnVxU_j2"
      },
      "source": [
        "autoencoder.save_weights(join(project_path, './autoencoder/autoencoder'))"
      ],
      "execution_count": null,
      "outputs": []
    },
    {
      "cell_type": "markdown",
      "metadata": {
        "id": "Ubs2uG9h5GPK"
      },
      "source": [
        "## STFT Consonant Amplification"
      ]
    },
    {
      "cell_type": "code",
      "metadata": {
        "id": "zJkh8iIH5Rg1"
      },
      "source": [
        "# https://docs.scipy.org/doc/scipy/reference/generated/scipy.signal.butter.html\n",
        "# http://man.hubwiz.com/docset/LibROSA.docset/Contents/Resources/Documents/generated/librosa.filters.mel.html\n",
        "# https://docs.scipy.org/doc/scipy/reference/generated/scipy.signal.firwin.html\n",
        "\n",
        "from scipy import signal\n",
        "import matplotlib.pyplot as plt\n",
        "from scipy.signal import butter, lfilter, freqz, sosfilt, sosfreqz\n",
        "\n",
        "all_reverb_signals = np.asarray(all_reverb_signals)"
      ],
      "execution_count": null,
      "outputs": []
    },
    {
      "cell_type": "code",
      "metadata": {
        "colab": {
          "base_uri": "https://localhost:8080/"
        },
        "id": "uoqsWPY8_cJL",
        "outputId": "87aaa9c2-2c20-4352-efa5-75debbd124b8"
      },
      "source": [
        "# We first amplified consonants over the entire spectrum - which resulted in a slight accuracy boost\n",
        "from scipy.fft import fft, ifft\n",
        "\n",
        "fft_reverb = np.apply_along_axis(fft, 1, all_reverb_signals)\n",
        "for i in range(len(fft_reverb)):\n",
        "  # boost consonant frequencies: > 4000 Hz\n",
        "  bound = int(4000*len(fft_reverb[i])/16000)\n",
        "  fft_reverb[i][bound:len(fft_reverb[i])-bound] = 2 * fft_reverb[i][bound:len(fft_reverb[i])-bound]\n",
        "\n",
        "fft_reverb = np.apply_along_axis(ifft, 1, fft_reverb)\n",
        "\n",
        "X_sig_rev=np.vstack(fft_reverb)\n",
        "X_sig_rev=X_sig_rev.reshape(X_sig_rev.shape[0],X_sig_rev.shape[1],1)\n",
        "#print(X_sig_rev.shape)\n",
        "model_e2e.evaluate(X_sig_rev, y_trial)\n",
        "# 0.5635 -> 0.5658\n",
        "\n",
        "# seeing this, we decided to use the STFT to amplify consonants specifically\n",
        "# when detecting a consonant window"
      ],
      "execution_count": null,
      "outputs": [
        {
          "output_type": "stream",
          "text": [
            "80/80 [==============================] - 5s 65ms/step - loss: 1.7116 - accuracy: 0.5658\n"
          ],
          "name": "stdout"
        },
        {
          "output_type": "execute_result",
          "data": {
            "text/plain": [
              "[1.7116496562957764, 0.5658307075500488]"
            ]
          },
          "metadata": {
            "tags": []
          },
          "execution_count": 175
        }
      ]
    },
    {
      "cell_type": "code",
      "metadata": {
        "id": "90buLzE3viph",
        "colab": {
          "base_uri": "https://localhost:8080/"
        },
        "outputId": "79efdf2b-5159-4f6e-ea3b-9f4b69d53e67"
      },
      "source": [
        "#METHOD 3: STFT\n",
        "\n",
        "# The next few cells is us looking at the STFT of a single sample\n",
        "# This helped us establish thresholds for our actual method\n",
        "\n",
        "# use window size of 350/2 milliseconds - fine tuned by looking at STFT\n",
        "window_size = int(fs * 0.35 / 2) \n",
        "print(window_size)"
      ],
      "execution_count": null,
      "outputs": [
        {
          "output_type": "stream",
          "text": [
            "2800\n"
          ],
          "name": "stdout"
        }
      ]
    },
    {
      "cell_type": "code",
      "metadata": {
        "id": "j0GCTffDvpWy"
      },
      "source": [
        "#compute the stft of first sample\n",
        "f,t,s = signal.stft(all_reverb_signals[0], fs, window='hann', nperseg=window_size, nfft=window_size)"
      ],
      "execution_count": null,
      "outputs": []
    },
    {
      "cell_type": "code",
      "metadata": {
        "id": "yWPegpdgqVxu",
        "colab": {
          "base_uri": "https://localhost:8080/",
          "height": 75
        },
        "outputId": "ed6ef785-352d-4942-8d6a-0e86855909ae"
      },
      "source": [
        "IPython.display.Audio(all_reverb_signals[0], rate=fs) #play audio"
      ],
      "execution_count": null,
      "outputs": [
        {
          "output_type": "execute_result",
          "data": {
            "text/html": [
              "\n",
              "                <audio controls=\"controls\" >\n",
              "                    <source src=\"data:audio/wav;base64,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\" type=\"audio/wav\" />\n",
              "                    Your browser does not support the audio element.\n",
              "                </audio>\n",
              "              "
            ],
            "text/plain": [
              "<IPython.lib.display.Audio object>"
            ]
          },
          "metadata": {
            "tags": []
          },
          "execution_count": 177
        }
      ]
    },
    {
      "cell_type": "code",
      "metadata": {
        "id": "CcJfxzTAX6ov",
        "colab": {
          "base_uri": "https://localhost:8080/",
          "height": 295
        },
        "outputId": "2245a202-ea5e-47e6-8462-c0d9b569b860"
      },
      "source": [
        "# plot STFT\n",
        "amp = 2 * np.sqrt(2)\n",
        "plt.pcolormesh(t, f, np.abs(s), vmin=0, vmax=amp, shading='gouraud')\n",
        "plt.title('STFT Magnitude')\n",
        "plt.ylabel('Frequency [Hz]')\n",
        "plt.xlabel('Time [sec]')\n",
        "plt.show()\n",
        "# we see a clear separation in consonants and vowels:\n",
        "# vowels: 0.2-0.6 seconds\n",
        "# consonants: 0.7-0.9 seconds"
      ],
      "execution_count": null,
      "outputs": [
        {
          "output_type": "display_data",
          "data": {
            "image/png": "[encoded data removed]",
            "text/plain": [
              "<Figure size 432x288 with 1 Axes>"
            ]
          },
          "metadata": {
            "tags": [],
            "needs_background": "light"
          }
        }
      ]
    },
    {
      "cell_type": "code",
      "metadata": {
        "id": "pbSfasWh3I1Q",
        "colab": {
          "base_uri": "https://localhost:8080/"
        },
        "outputId": "6877dfea-a3e3-4240-e5bd-2c7aeae7067e"
      },
      "source": [
        "# find ratio between high and low frequencies\n",
        "# consonants have primarily higher frequencies and lower energy content than vowels\n",
        "\n",
        "ratios = []\n",
        "# 0 - 4000 Hz, 4000 - 8000\n",
        "# filter 3000 or 2000 below for consonants\n",
        "# The average duration of a segment is 60-70 ms in unstressed syllables and 100-150 ms is stressed\n",
        "sum = np.sum(abs(s))\n",
        "print(sum)\n",
        "for i in range(len(s)):\n",
        "  bound1 = int(3000*len(s[i])/8000)\n",
        "  bound2 = int(3000*len(s[i])/8000)\n",
        "  low_freq = np.sum(abs(s[i][0:bound1])) # sum of low frequency components (vowels)\n",
        "  high_freq = np.sum(abs(s[i][bound2:len(s[i])-bound2])) # sum of high frequency components (consonants)\n",
        "  ratio = low_freq / high_freq\n",
        "  ratios.append(ratio)\n",
        "  #ratios.append(np.sum(abs(s[i]))) # hard to differentiate between consonants and no sound...\n",
        "\n",
        "print(ratios[0:int(0.1*len(ratios))])\n",
        "print(ratios[int(0.3*len(ratios)):int(0.5*len(ratios))])\n",
        "print(ratios[int(0.7*len(ratios)):int(0.8*len(ratios))])\n",
        "# we observe that the ratio is noticeably higher during vowel periods\n",
        "# and lower for consonant periods"
      ],
      "execution_count": null,
      "outputs": [
        {
          "output_type": "stream",
          "text": [
            "1523.9255281067137\n",
            "[0.3759010425337582, 0.39964654397229543, 0.16222087087261386, 0.2721901509768031, 0.5632183772832984, 1.5983947379587684, 0.8139147338322866, 0.38208810229908713, 0.41911057295472326, 0.8304632136760344, 0.9374173726587148, 0.8212923302543566, 0.3216949906744415, 0.21883273790526034, 0.48933071064162154, 0.6398634430575019, 1.1811020109775205, 2.7695019290763843, 3.875133365745076, 5.970870355796026, 4.690383967805285, 2.2883379299329674, 2.079239417642527, 1.1407473126662344, 0.4477904297164866, 0.5212909349439284, 0.3498294753987916, 0.14637659577609186, 0.15075318197053061, 0.13047420910677, 0.020102944874955172, 0.14035006458450644, 0.2876650253910693, 0.5045590287972752, 0.38429391272736213, 0.14840124184822015, 0.28482705701028943, 0.496565257644738, 0.3744986331512475, 0.12613174413639125, 0.2879849891749259, 0.4782510781697194, 0.383053841535914, 0.2577112429173289, 0.1444696275458142, 0.19361341074884958, 0.12676817614503832, 0.45482458596180503, 0.3592975567628832, 0.49008017553546507, 0.8822087753081538, 1.0941788112570925, 0.6771953835180756, 0.2522947519299786, 0.6134201702814224, 0.7179639524845645, 0.8368140376053756, 0.36799983448234186, 1.0240938741132488, 1.1480067024017473, 0.31654772141939713, 0.5315687011888515, 0.4027872028498518, 0.3940297819460018, 0.4099415827248138, 0.40816897181576733, 0.6133233631682491, 1.2037832330256961, 1.014964782222405, 0.3166076962825545, 0.5699550083528248, 0.49712596554725325, 0.24598433549739337, 0.46277684002551983, 0.6808083783645941, 1.118426553910185, 2.1922122021924952, 1.1167441641744456, 0.431433065976693, 0.48308114345528547, 0.22718068211262252, 0.23705336398705454, 0.6345661384771651, 0.8642639483199139, 0.9778612027918169, 0.9872661391466477, 1.1621965392229672, 0.9538888928612022, 0.9871706037332818, 0.9111855059147771, 0.6701225222605652, 0.2571788257456731, 0.34995533349522007, 0.36160219736901406, 0.5778096911052013, 0.4402410547550029, 0.3939877137934886, 0.5155264261789229, 0.6610767141188411, 0.8542315232835662, 0.6297906384209381, 0.4877482037492038, 0.44996427787459864, 0.44976233426566586, 0.3814490466808069, 0.24082424885860995, 0.576937641611514, 0.24208254165558712, 0.3100311848707252, 0.567551497852078, 0.5147313879288116, 0.5598489559889924, 0.47170806642249175, 0.8027852687823733, 1.8751976638313965, 1.3685289137573486, 1.2553057316584089, 0.8598827024849459, 1.289180610447423, 1.217947430374621, 1.205276401912473, 0.6870439600211886, 0.3722045342458542, 0.5231615953347282, 0.9196720293310533, 0.6606719959803932, 0.5364672873951496, 1.0170450231952266, 1.0172860072098509, 1.0933396745969672, 1.6722755071548023, 1.272996374559904, 0.918481789424794, 1.2430262156246483, 1.156535237766408, 1.569549397902154, 1.9111051722842822, 1.4622408289761872, 1.2505259148254686, 0.7782650392611493]\n",
            "[0.766450777267708, 0.9729499861289134, 1.2345431049639715, 1.4869867508922068, 1.0799070140615568, 0.6367703429065876, 0.7287920541235458, 1.3930360896445053, 0.5380336555575244, 0.31504702163751297, 0.3884793236044907, 0.15472818659865326, 0.7663617009035336, 0.7517077338758046, 0.3457215481593988, 0.8154691958034915, 1.10986442402777, 1.1991170025121434, 2.6791647511359695, 1.4745152138018407, 1.1532173558839707, 0.8351891326540237, 0.8892437641829175, 0.6476261251554779, 0.16737940546205454, 0.22901183742004746, 0.33685112393129085, 0.5067960944265848, 0.672944982372121, 0.6119493264638219, 0.7655117000839866, 1.1783104066089678, 1.0475762113629499, 0.38310003904464207, 0.10080822214726015, 0.09776893575916726, 0.2654068973235846, 0.5215292762396817, 0.5765664643423041, 0.48579367121138417, 0.5651893324860737, 0.48680178553458137, 0.21973329740607053, 0.31118073220680376, 0.19102795733213487, 0.6212712072983648, 0.6154911782698241, 0.6327652736714467, 0.7375174935986956, 1.3949395492020684, 0.7735521928768144, 0.704612520778606, 1.1297558524443028, 0.8034025023306507, 0.5949396237111652, 0.7584490628338405, 1.0829557101123395, 0.49907591119245825, 0.597027144134199, 1.0884586924787258, 0.9929759057383799, 0.5217208967890486, 0.5394504136533154, 0.4698661484310965, 0.32064678388699785, 0.45230976492332253, 0.434377605702469, 0.5799872782089102, 0.8839517630633009, 0.8194700396182527, 0.2290004618155499, 0.19268608319643338, 0.35036489403484955, 0.3630944463854706, 0.3868110740389599, 0.6024305203960173, 0.215778889970637, 0.10592768571557765, 0.12553320011960908, 0.14751097940386565, 0.5107626128937605, 0.6069499886410128, 0.5580233831664014, 0.5576722836625035, 0.6027624007321039, 1.375033987615982, 0.8047094129523767, 0.6270884396477653, 0.7462090170714171, 0.5921293759582923, 0.8522330399250547, 0.9903649037018257, 0.37882823148669, 0.4919652727388998, 0.8539907215379684, 0.7395063299296765, 0.614306275378898, 0.87361958134096, 1.098481070100365, 0.9629535102405575, 1.661676912698938, 1.6356403033551281, 1.1598908244732988, 1.3980891449855681, 1.160461093415655, 0.5070808078548871, 0.10621636183766639, 0.8394474587951583, 0.9393702712637327, 0.579031414433567, 0.6488019405109938, 0.7359505305729815, 0.9506518629880985, 1.3860755168411074, 1.6388556825082223, 2.5066598292445836, 1.5854238730274108, 1.4199633216636034, 2.140312576709287, 2.2069701550301475, 2.608657090361731, 1.497754632241844, 0.9230907016661756, 1.1290159915994018, 1.2283624921651084, 0.9020983507327721, 1.0573950216216084, 1.4134927451213415, 0.667220056952373, 0.22775982147370546, 1.0116124992589108, 1.6023385960095067, 3.0647612458753213, 2.988507445888879, 2.3013222652644587, 1.02368224755236, 1.4793505768715292, 1.671739047548927, 0.6217086695565845, 0.5110920323855959, 1.332903407327141, 1.5153825331831843, 1.046060999202401, 0.5377261949972377, 2.309408697307138, 0.8328013944986129, 0.9012896046448784, 1.2448345807046102, 2.4812407799416483, 2.1499367647504384, 1.7631089800100839, 1.7517577549760188, 1.526051287658774, 0.785901870009977, 0.3582081641865914, 0.2208634236266006, 0.5224858876712536, 1.098824836577327, 2.109107274770713, 2.1473759869981874, 1.0736641313489441, 0.5777452574451147, 0.3648956627076818, 0.3102616301963945, 0.3096395817362134, 0.671837093096823, 0.9710271914984826, 0.3742846968897197, 0.20463752510735092, 0.3530136886896048, 0.2751059615074592, 0.33003380404863975, 0.9218883096346013, 0.7987432024320411, 0.36996629900561373, 0.574470838949927, 0.333168256344239, 0.3392927828677773, 0.4250581167501765, 0.47697061778989214, 0.7293929186147313, 0.8262522398655415, 0.7269553284021621, 1.0545412321131384, 0.9982888442313478, 0.5905970431801271, 0.5284437238330495, 0.644749350239974, 0.31995624969145714, 0.1883901508481972, 0.3426770877054236, 0.8189335881503834, 1.253178799158636, 0.44900963287804285, 0.9736772207242005, 1.0860432933863455, 1.7507428276152017, 1.459623562445032, 1.5258544731909687, 1.23606537688351, 0.6528463901515896, 0.3011423966866106, 0.42579648630200145, 0.8145490866563526, 0.5377387302370937, 0.51569651918655, 1.2066732753762976, 1.1476755451699145, 0.7540187106584986, 1.0636887152331362, 1.3556860180071082, 0.5174722995339376, 0.7418516060971033, 1.0607027378818854, 0.5355486845084368, 0.8036160619745696, 1.1706916676498835, 1.0287639281903778, 0.8240129149490087, 0.6438044171582963, 0.6071926150072757, 0.6211049097845258, 1.250371712221951, 0.8530388201240393, 0.4100830346450763, 0.4014754210177544, 0.98161150913082, 0.5583727580603967, 0.15779491067275273, 0.41662591654848113, 0.4277584113669165, 0.5259315811311169, 0.714515833520804, 0.23359441829694305, 0.184758862497272, 0.44895367536110675, 0.6292105724237715, 0.2530184480796183, 0.3023747036072786, 0.9204888981691368, 0.852910888071972, 0.6565865431410222, 0.5930411610380157, 0.6817035719407042, 0.6447432791770211, 0.4123103844992117, 0.23016726997586923, 0.3002026783829214, 0.46603156067239154, 0.41421151624037156, 0.30173424616754374, 0.31177110954923687, 0.30861126479089096, 0.19694710723230027, 0.2449380659356778, 0.49294849049438644, 0.8984085406526304, 1.0163567336527195, 0.13032474391308083, 0.23150822268293111, 0.16556328857095504, 0.08952827688365024, 0.21163201075054158, 0.736651241547953, 0.9960815317389707, 0.4106782594713977, 0.39507864092923367, 0.3019107678545987, 0.23746185108170836, 0.35475201046115623, 0.6253564029316988, 0.9431830790471222, 1.5788932695744362, 0.5966111130300793, 0.13871579260249584, 0.17164118917081925, 0.2951341673944016, 0.41771225082143026, 0.8209813447623393, 1.151096683134033]\n",
            "[0.15719297093240248, 0.09550669075195169, 0.12113725523101843, 0.03153182978238659, 0.026934722785152295, 0.0244357341016737, 0.058189360269047315, 0.07879255924329977, 0.07513010971408872, 0.0993738592026587, 0.05027399070442357, 0.08059718789435495, 0.10675031630364443, 0.046121559782923725, 0.060673077301998696, 0.09944707421321884, 0.09900381952679939, 0.06973236768452719, 0.03769297940913309, 0.021577337889114086, 0.029575262567176245, 0.0394399780634678, 0.030422388798604257, 0.03035760615135518, 0.035073359914031293, 0.024623852693000284, 0.060936487491434925, 0.09295585753714268, 0.07704005561944395, 0.08617629383697746, 0.13157758031600375, 0.05115930795688046, 0.02162095866718861, 0.03255453420455693, 0.04584628367993637, 0.07063625392965306, 0.05870394595791928, 0.06773180283512667, 0.11335281652357948, 0.08237845656750684, 0.11539092201474588, 0.08152549685026865, 0.10004645025121851, 0.12850218157859086, 0.12738755985480854, 0.16294487322745305, 0.12432494889889074, 0.22142612305841525, 0.13520647762774057, 0.08137841203626707, 0.11351616062132067, 0.10885293440315091, 0.1834183166173046, 0.3247279196829272, 0.4091790217285337, 0.2737906707395652, 0.1770767636313595, 0.10074094964714418, 0.12815148320977185, 0.10092194437170478, 0.09135596436114454, 0.1572756458269796, 0.184975379246804, 0.1401341923312179, 0.2867643262793399, 0.10947167138961893, 0.05731859333915031, 0.07459410953354491, 0.10372722320486234, 0.11678803789299183, 0.2246181125688257, 0.09884662287180161, 0.09388129014801778, 0.09907366068337063, 0.10222538192544267, 0.08979719227356399, 0.08153756091426351, 0.07749472041104458, 0.12314743453376656, 0.11709549956104708, 0.12059295166296319, 0.15803206390725702, 0.11032261336183893, 0.12251361591655344, 0.26572670936539494, 0.21039581843923458, 0.21002283680664752, 0.4710687624624756, 0.1681684187080071, 0.1513053461344433, 0.34817310560020875, 0.09575715280182398, 0.06681970668358304, 0.07811942836887127, 0.03622475340324999, 0.04487515917486728, 0.06725285065423323, 0.08376898555094031, 0.157298087411443, 0.1312818582454185, 0.14418161533982107, 0.09435792573970715, 0.07648694442393883, 0.09026410695323789, 0.11814887208999897, 0.3012914760665458, 0.1522295831833283, 0.11130789983421469, 0.1406418374915558, 0.11663792219946337, 0.1458701086885101, 0.18119060738938456, 0.2554668946418076, 0.7762936786931836, 0.9555817130409839, 0.9406426630105349, 0.4932296874210677, 0.44841716599695314, 0.8569695612461433, 0.6141892196924659, 0.5246610496375568, 0.8927305863239253, 0.7413621262510453, 0.4524048627520293, 0.5549423881466915, 0.3619820501448995, 0.5183890536057991, 0.6937279783916548, 1.5268295692498848, 0.4672335121864765, 0.6807186926888323, 0.763678512739952, 0.5447895131225822, 0.5269373038177955, 0.5499204535448101, 0.45674371664674296, 0.5384534929997937, 0.4779270966120157, 0.579435390842816, 0.938895763658726]\n"
          ],
          "name": "stdout"
        }
      ]
    },
    {
      "cell_type": "code",
      "metadata": {
        "id": "Ot2lroMoq_oV",
        "colab": {
          "base_uri": "https://localhost:8080/",
          "height": 530
        },
        "outputId": "1bf79ad2-c521-4a55-e5e3-67cd9f996a0f"
      },
      "source": [
        "#compute istft to make sure that the signal is properly reconstructed\n",
        "x, t = signal.istft(s, fs, window='hann', nperseg=window_size, nfft=window_size)\n",
        "fig = plt.figure(1)\n",
        "#istft reconstructed signal\n",
        "plt.plot(t[0:16000])\n",
        "fig = plt.figure(2)\n",
        "#original signal\n",
        "plt.plot(all_reverb_signals[0])"
      ],
      "execution_count": null,
      "outputs": [
        {
          "output_type": "execute_result",
          "data": {
            "text/plain": [
              "[<matplotlib.lines.Line2D at 0x7f1daa392208>]"
            ]
          },
          "metadata": {
            "tags": []
          },
          "execution_count": 137
        },
        {
          "output_type": "display_data",
          "data": {
            "image/png": "[encoded data removed]",
            "text/plain": [
              "<Figure size 432x288 with 1 Axes>"
            ]
          },
          "metadata": {
            "tags": [],
            "needs_background": "light"
          }
        },
        {
          "output_type": "display_data",
          "data": {
            "image/png": "[encoded data removed]",
            "text/plain": [
              "<Figure size 432x288 with 1 Axes>"
            ]
          },
          "metadata": {
            "tags": [],
            "needs_background": "light"
          }
        }
      ]
    },
    {
      "cell_type": "code",
      "metadata": {
        "id": "5JJZUP-X6OVs",
        "colab": {
          "base_uri": "https://localhost:8080/"
        },
        "outputId": "516613d3-d4f1-47db-ec79-2ca80d538681"
      },
      "source": [
        "# we now perform our method over all samples\n",
        "\n",
        "# set window size\n",
        "window_size = int(fs * 0.35 / 2) # 350 ms\n",
        "print(window_size)\n",
        "#take stft\n",
        "stfts = []\n",
        "for i in range(len(all_reverb_signals)):\n",
        "  _,_,s = signal.stft(all_reverb_signals[i], fs, window='hann', nperseg=window_size, nfft=window_size)\n",
        "  stfts.append(s)"
      ],
      "execution_count": null,
      "outputs": [
        {
          "output_type": "stream",
          "text": [
            "2800\n"
          ],
          "name": "stdout"
        }
      ]
    },
    {
      "cell_type": "code",
      "metadata": {
        "id": "1Pk3s_Ra3KkW"
      },
      "source": [
        "# take ratio of low freq / high\n",
        "for i in range(len(stfts)):\n",
        "  for j in range(len(stfts[i])):\n",
        "    bound = int(3000*len(stfts[i][j])/8000) # 4000?\n",
        "    low_freq = np.sum(abs(stfts[i][j][0:bound]))\n",
        "    high_freq = np.sum(abs(stfts[i][j][bound:len(stfts[i][j])-bound]))\n",
        "    ratio = low_freq / high_freq\n",
        "    if ratio < 0.05: #amplify consonants for consonant regions\n",
        "      bound2 = int(4000*len(stfts[i][j])/8000)\n",
        "      stfts[i][j][bound:len(stfts[i][j])-bound] = 3 * stfts[i][j][bound:len(stfts[i][j])-bound]\n",
        "      #stfts[i][j][0:bound2] = 0.25 * stfts[i][j][0:bound2] # attenuate low frequencies for consonants\n"
      ],
      "execution_count": null,
      "outputs": []
    },
    {
      "cell_type": "code",
      "metadata": {
        "id": "TZt-A53p5AAL"
      },
      "source": [
        "# reconstruct signals using istft\n",
        "new_signals = []\n",
        "for i in range(len(stfts)):\n",
        "  _, x = signal.istft(stfts[i], fs, window='hann', nperseg=window_size, nfft=window_size)\n",
        "  x = x[0:16000] # append to original size\n",
        "  new_signals.append(x)\n"
      ],
      "execution_count": null,
      "outputs": []
    },
    {
      "cell_type": "code",
      "metadata": {
        "id": "8MIgUg5I_Y5a",
        "colab": {
          "base_uri": "https://localhost:8080/"
        },
        "outputId": "70f923ad-b70b-4de4-8a10-cbfd1d4d4219"
      },
      "source": [
        "# test model\n",
        "X_sig_rev=np.vstack(new_signals)\n",
        "X_sig_rev=X_sig_rev.reshape(X_sig_rev.shape[0],X_sig_rev.shape[1],1)\n",
        "print(X_sig_rev.shape)\n",
        "model_e2e.evaluate(X_sig_rev, y_trial) # 0.5635 -> 0.5803"
      ],
      "execution_count": null,
      "outputs": [
        {
          "output_type": "stream",
          "text": [
            "(2552, 16000, 1)\n",
            "80/80 [==============================] - 5s 62ms/step - loss: 1.7293 - accuracy: 0.5803\n"
          ],
          "name": "stdout"
        },
        {
          "output_type": "execute_result",
          "data": {
            "text/plain": [
              "[1.7292641401290894, 0.580329179763794]"
            ]
          },
          "metadata": {
            "tags": []
          },
          "execution_count": 170
        }
      ]
    },
    {
      "cell_type": "code",
      "metadata": {
        "id": "GO-r1Pu-FBTC",
        "colab": {
          "base_uri": "https://localhost:8080/",
          "height": 530
        },
        "outputId": "d7369628-397f-4871-c869-21cd7967907f"
      },
      "source": [
        "# plot figures for debugging purposes\n",
        "figure = plt.figure(1)\n",
        "plt.plot(all_reverb_signals[500])\n",
        "figure = plt.figure(2)\n",
        "plt.plot(new_signals[500])"
      ],
      "execution_count": null,
      "outputs": [
        {
          "output_type": "execute_result",
          "data": {
            "text/plain": [
              "[<matplotlib.lines.Line2D at 0x7f1da9ca1710>]"
            ]
          },
          "metadata": {
            "tags": []
          },
          "execution_count": 171
        },
        {
          "output_type": "display_data",
          "data": {
            "image/png": "[encoded data removed]",
            "text/plain": [
              "<Figure size 432x288 with 1 Axes>"
            ]
          },
          "metadata": {
            "tags": [],
            "needs_background": "light"
          }
        },
        {
          "output_type": "display_data",
          "data": {
            "image/png": "[encoded data removed]",
            "text/plain": [
              "<Figure size 432x288 with 1 Axes>"
            ]
          },
          "metadata": {
            "tags": [],
            "needs_background": "light"
          }
        }
      ]
    },
    {
      "cell_type": "code",
      "metadata": {
        "id": "IQLHAcGUAStX",
        "colab": {
          "base_uri": "https://localhost:8080/",
          "height": 75
        },
        "outputId": "4e77d4fb-6460-427b-b9fa-23a38a1a3d45"
      },
      "source": [
        "IPython.display.Audio(all_reverb_signals[1000], rate=fs)"
      ],
      "execution_count": null,
      "outputs": [
        {
          "output_type": "execute_result",
          "data": {
            "text/html": [
              "\n",
              "                <audio controls=\"controls\" >\n",
              "                    <source src=\"data:audio/wav;base64,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\" type=\"audio/wav\" />\n",
              "                    Your browser does not support the audio element.\n",
              "                </audio>\n",
              "              "
            ],
            "text/plain": [
              "<IPython.lib.display.Audio object>"
            ]
          },
          "metadata": {
            "tags": []
          },
          "execution_count": 148
        }
      ]
    },
    {
      "cell_type": "code",
      "metadata": {
        "id": "tCLKRx5sNnXW",
        "colab": {
          "base_uri": "https://localhost:8080/",
          "height": 75
        },
        "outputId": "03427833-821f-407f-a45a-969b946ee122"
      },
      "source": [
        "IPython.display.Audio(new_signals[1000], rate=fs)"
      ],
      "execution_count": null,
      "outputs": [
        {
          "output_type": "execute_result",
          "data": {
            "text/html": [
              "\n",
              "                <audio controls=\"controls\" >\n",
              "                    <source src=\"data:audio/wav;base64,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\" type=\"audio/wav\" />\n",
              "                    Your browser does not support the audio element.\n",
              "                </audio>\n",
              "              "
            ],
            "text/plain": [
              "<IPython.lib.display.Audio object>"
            ]
          },
          "metadata": {
            "tags": []
          },
          "execution_count": 149
        }
      ]
    }
  ]
}